{
  "nbformat": 4,
  "nbformat_minor": 0,
  "metadata": {
    "colab": {
      "name": "AutiInsuranceProjEDA.ipynb",
      "provenance": []
    },
    "kernelspec": {
      "name": "python3",
      "display_name": "Python 3"
    }
  },
  "cells": [
    {
      "cell_type": "code",
      "metadata": {
        "id": "MN-kSn50UjTv",
        "colab_type": "code",
        "colab": {}
      },
      "source": [
        "import pandas as pd\n",
        "import numpy as np\n",
        "import seaborn as sns\n",
        "import matplotlib.pyplot as plt"
      ],
      "execution_count": 0,
      "outputs": []
    },
    {
      "cell_type": "code",
      "metadata": {
        "id": "3u16dqYkU0lX",
        "colab_type": "code",
        "colab": {}
      },
      "source": [
        "df=pd.read_csv('/content/drive/My Drive/Colab Notebooks/auto.csv')\n",
        "df=df.replace(-1,np.nan)"
      ],
      "execution_count": 0,
      "outputs": []
    },
    {
      "cell_type": "markdown",
      "metadata": {
        "id": "JNlPJDl4VPdR",
        "colab_type": "text"
      },
      "source": [
        "Target column is imbalanced. 0 and 1 is of proportion 96.3552 : 3.64475"
      ]
    },
    {
      "cell_type": "code",
      "metadata": {
        "id": "K-HOK-cMVKdm",
        "colab_type": "code",
        "outputId": "62f96300-452b-4010-bf91-85aa9c267122",
        "colab": {
          "base_uri": "https://localhost:8080/",
          "height": 87
        }
      },
      "source": [
        "print(df['target'].value_counts())\n",
        "print('0 records percentage is ',df['target'].value_counts()[0]/len(df) * 100 , ',','1 records percentage is ',df['target'].value_counts()[1]/len(df) * 100)"
      ],
      "execution_count": 0,
      "outputs": [
        {
          "output_type": "stream",
          "text": [
            "0    573518\n",
            "1     21694\n",
            "Name: target, dtype: int64\n",
            "0 records percentage is  96.3552482140817 , 1 records percentage is  3.6447517859182947\n"
          ],
          "name": "stdout"
        }
      ]
    },
    {
      "cell_type": "code",
      "metadata": {
        "id": "kb9jSzTyVxLn",
        "colab_type": "code",
        "outputId": "d9db9f5a-d47e-4fac-ae4d-f5da8a1238a8",
        "colab": {
          "base_uri": "https://localhost:8080/",
          "height": 301
        }
      },
      "source": [
        "sns.countplot(x ='target', data = df)"
      ],
      "execution_count": 0,
      "outputs": [
        {
          "output_type": "execute_result",
          "data": {
            "text/plain": [
              "<matplotlib.axes._subplots.AxesSubplot at 0x7f7f88474048>"
            ]
          },
          "metadata": {
            "tags": []
          },
          "execution_count": 104
        },
        {
          "output_type": "display_data",
          "data": {
            "image/png": "[encoded data removed]",
            "text/plain": [
              "<Figure size 432x288 with 1 Axes>"
            ]
          },
          "metadata": {
            "tags": []
          }
        }
      ]
    },
    {
      "cell_type": "markdown",
      "metadata": {
        "id": "At0TllVpWda1",
        "colab_type": "text"
      },
      "source": [
        "There are 12 categorical columns in the dataset"
      ]
    },
    {
      "cell_type": "code",
      "metadata": {
        "id": "v0ExlZ1KWQbq",
        "colab_type": "code",
        "outputId": "087e06d2-c650-40fe-ddab-cddbe9642777",
        "colab": {
          "base_uri": "https://localhost:8080/",
          "height": 35
        }
      },
      "source": [
        "cat_cols=['ps_ind_02_cat','ps_ind_04_cat','ps_ind_05_cat','ps_car_01_cat','ps_car_01_cat','ps_car_02_cat','ps_car_04_cat','ps_car_05_cat','ps_car_06_cat','ps_car_07_cat','ps_car_08_cat','ps_car_10_cat']\n",
        "len(cat_cols)"
      ],
      "execution_count": 0,
      "outputs": [
        {
          "output_type": "execute_result",
          "data": {
            "text/plain": [
              "12"
            ]
          },
          "metadata": {
            "tags": []
          },
          "execution_count": 105
        }
      ]
    },
    {
      "cell_type": "markdown",
      "metadata": {
        "id": "24rBXNavXwWd",
        "colab_type": "text"
      },
      "source": [
        "There are 17 binary columns"
      ]
    },
    {
      "cell_type": "code",
      "metadata": {
        "id": "Ko3z_PZjWnr6",
        "colab_type": "code",
        "outputId": "8e3a1388-f62c-4339-87cb-d121ed247705",
        "colab": {
          "base_uri": "https://localhost:8080/",
          "height": 35
        }
      },
      "source": [
        "bin_cols=['ps_ind_06_bin','ps_ind_07_bin','ps_ind_08_bin','ps_ind_09_bin','ps_ind_10_bin','ps_ind_11_bin','ps_ind_12_bin','ps_ind_13_bin','ps_ind_16_bin','ps_ind_17_bin','ps_ind_18_bin','ps_calc_15_bin','ps_calc_16_bin','ps_calc_17_bin','ps_calc_18_bin','ps_calc_19_bin','ps_calc_20_bin']\n",
        "len(bin_cols)"
      ],
      "execution_count": 0,
      "outputs": [
        {
          "output_type": "execute_result",
          "data": {
            "text/plain": [
              "17"
            ]
          },
          "metadata": {
            "tags": []
          },
          "execution_count": 106
        }
      ]
    },
    {
      "cell_type": "markdown",
      "metadata": {
        "id": "bevUAYqIX08h",
        "colab_type": "text"
      },
      "source": [
        "Inferences from data on interval variables :\n",
        "\n",
        "There are total 26 interval variables\n",
        "\n",
        "ps_reg_03 ,ps_car_11,ps_car_12,ps_car_14 variables have missing data.\n",
        "\n",
        "Below variables are having high correlation :\n",
        "\n",
        "ps_car_13 and ps_car_12 \n",
        "\n",
        "ps_car_14  and ps_car_12\n",
        "\n",
        "ps_reg_01 and ps_reg_02\n",
        "\n",
        "ps_reg_03 and ps_reg_02\n",
        "\n"
      ]
    },
    {
      "cell_type": "markdown",
      "metadata": {
        "id": "carqu9ygZRyV",
        "colab_type": "text"
      },
      "source": [
        "Inferences from data on Ordinal variables :\n",
        "\n",
        "Below variables have missing data :\n",
        "\n",
        "ps_ind_02_cat,ps_ind_04_cat,ps_ind_05_cat,ps_car_01_cat,ps_car_05_cat,ps_car_07_cat,ps_car_09_cat\n"
      ]
    },
    {
      "cell_type": "markdown",
      "metadata": {
        "id": "aJTdoY8laYQt",
        "colab_type": "text"
      },
      "source": [
        "Inferences from data on binary variables :\n",
        "\n",
        "ps_ind_10_bin , ps_ind_11_bin ,ps_ind_12_bin, ps_ind_13_bin and ps_ind_14 have low variance\n",
        "\n",
        " There are no binary columns with missing values."
      ]
    },
    {
      "cell_type": "markdown",
      "metadata": {
        "id": "z49h56sPdGQ-",
        "colab_type": "text"
      },
      "source": [
        "The top two features in missing values :\n",
        "\n",
        "ps_car_03_cat,ps_car_05_cat  "
      ]
    },
    {
      "cell_type": "code",
      "metadata": {
        "id": "D5dDUDoldZNV",
        "colab_type": "code",
        "outputId": "a0b2ecf2-d57c-4954-f188-e48347ac1ff0",
        "colab": {
          "base_uri": "https://localhost:8080/",
          "height": 52
        }
      },
      "source": [
        "print('missing values percentage',(df['ps_car_03_cat'].isnull().sum()/len(df)) * 100)\n",
        "print('missing values percentage',(df['ps_car_05_cat'].isnull().sum()/len(df)) * 100)"
      ],
      "execution_count": 0,
      "outputs": [
        {
          "output_type": "stream",
          "text": [
            "missing values percentage 69.08983689844963\n",
            "missing values percentage 44.78253126617071\n"
          ],
          "name": "stdout"
        }
      ]
    },
    {
      "cell_type": "code",
      "metadata": {
        "id": "EodH9Kp-d5JT",
        "colab_type": "code",
        "outputId": "5c7067b8-0eae-4c8f-d925-7eea58b8227d",
        "colab": {
          "base_uri": "https://localhost:8080/",
          "height": 35
        }
      },
      "source": [
        "df2 = df[[column for column in df if df[column].count() / len(df) >= 0.4]]\n",
        "for c in df.columns:\n",
        "    if c not in df2.columns:\n",
        "        print(c, end=\", \")"
      ],
      "execution_count": 0,
      "outputs": [
        {
          "output_type": "stream",
          "text": [
            "ps_car_03_cat, "
          ],
          "name": "stdout"
        }
      ]
    },
    {
      "cell_type": "code",
      "metadata": {
        "id": "jEZ-4X2Vhhx-",
        "colab_type": "code",
        "outputId": "e1ff1354-a604-42c6-8e7e-b914b665ba33",
        "colab": {
          "base_uri": "https://localhost:8080/",
          "height": 208
        }
      },
      "source": [
        "missing_value_cols=[]\n",
        "for c in df2.columns:\n",
        "  if (df2[c].count() != len(df)):\n",
        "    missing_value_cols.append(c)\n",
        "missing_value_cols"
      ],
      "execution_count": 0,
      "outputs": [
        {
          "output_type": "execute_result",
          "data": {
            "text/plain": [
              "['ps_ind_02_cat',\n",
              " 'ps_ind_04_cat',\n",
              " 'ps_ind_05_cat',\n",
              " 'ps_reg_03',\n",
              " 'ps_car_01_cat',\n",
              " 'ps_car_05_cat',\n",
              " 'ps_car_07_cat',\n",
              " 'ps_car_09_cat',\n",
              " 'ps_car_11',\n",
              " 'ps_car_12',\n",
              " 'ps_car_14']"
            ]
          },
          "metadata": {
            "tags": []
          },
          "execution_count": 109
        }
      ]
    },
    {
      "cell_type": "code",
      "metadata": {
        "id": "HOFWR1gphl8z",
        "colab_type": "code",
        "outputId": "e800c231-1ff7-4366-efed-bcebe64c10c8",
        "colab": {
          "base_uri": "https://localhost:8080/",
          "height": 1000
        }
      },
      "source": [
        "for col in missing_value_cols:\n",
        "  print(col)\n",
        "  print('\\n')\n",
        "  print(df2[col].value_counts())\n",
        "  print(df2[col].isnull().sum())\n",
        "  print('missing values percentage',(df2[col].isnull().sum()/len(df)) * 100)\n",
        "  print('*********')"
      ],
      "execution_count": 0,
      "outputs": [
        {
          "output_type": "stream",
          "text": [
            "ps_ind_02_cat\n",
            "\n",
            "\n",
            "1.0    431859\n",
            "2.0    123573\n",
            "3.0     28186\n",
            "4.0     11378\n",
            "Name: ps_ind_02_cat, dtype: int64\n",
            "216\n",
            "missing values percentage 0.036289590935666624\n",
            "*********\n",
            "ps_ind_04_cat\n",
            "\n",
            "\n",
            "0.0    346965\n",
            "1.0    248164\n",
            "Name: ps_ind_04_cat, dtype: int64\n",
            "83\n",
            "missing values percentage 0.013944611331760785\n",
            "*********\n",
            "ps_ind_05_cat\n",
            "\n",
            "\n",
            "0.0    528009\n",
            "6.0     20662\n",
            "4.0     18344\n",
            "1.0      8322\n",
            "3.0      8233\n",
            "2.0      4184\n",
            "5.0      1649\n",
            "Name: ps_ind_05_cat, dtype: int64\n",
            "5809\n",
            "missing values percentage 0.975954785857812\n",
            "*********\n",
            "ps_reg_03\n",
            "\n",
            "\n",
            "0.633936    664\n",
            "0.602599    637\n",
            "0.704894    627\n",
            "0.587899    616\n",
            "0.680074    598\n",
            "           ... \n",
            "0.282843      1\n",
            "1.967073      1\n",
            "1.676492      1\n",
            "1.715736      1\n",
            "1.578369      1\n",
            "Name: ps_reg_03, Length: 5012, dtype: int64\n",
            "107772\n",
            "missing values percentage 18.106489788512327\n",
            "*********\n",
            "ps_car_01_cat\n",
            "\n",
            "\n",
            "11.0    207573\n",
            "7.0     179247\n",
            "6.0      62393\n",
            "10.0     50087\n",
            "4.0      26174\n",
            "9.0      20323\n",
            "5.0      18142\n",
            "8.0      15093\n",
            "3.0       6658\n",
            "0.0       5904\n",
            "2.0       2144\n",
            "1.0       1367\n",
            "Name: ps_car_01_cat, dtype: int64\n",
            "107\n",
            "missing values percentage 0.01797678810239041\n",
            "*********\n",
            "ps_car_05_cat\n",
            "\n",
            "\n",
            "1.0    172667\n",
            "0.0    155994\n",
            "Name: ps_car_05_cat, dtype: int64\n",
            "266551\n",
            "missing values percentage 44.78253126617071\n",
            "*********\n",
            "ps_car_07_cat\n",
            "\n",
            "\n",
            "1.0    553148\n",
            "0.0     30575\n",
            "Name: ps_car_07_cat, dtype: int64\n",
            "11489\n",
            "missing values percentage 1.9302366215734896\n",
            "*********\n",
            "ps_car_09_cat\n",
            "\n",
            "\n",
            "2.0    353482\n",
            "0.0    194518\n",
            "1.0     29080\n",
            "3.0     14756\n",
            "4.0      2807\n",
            "Name: ps_car_09_cat, dtype: int64\n",
            "569\n",
            "missing values percentage 0.09559619093701067\n",
            "*********\n",
            "ps_car_11\n",
            "\n",
            "\n",
            "3.0    318919\n",
            "2.0    189353\n",
            "1.0     60952\n",
            "0.0     25983\n",
            "Name: ps_car_11, dtype: int64\n",
            "5\n",
            "missing values percentage 0.0008400368272145051\n",
            "*********\n",
            "ps_car_12\n",
            "\n",
            "\n",
            "0.316228    170579\n",
            "0.400000    111873\n",
            "0.374166     98598\n",
            "0.447214     49318\n",
            "0.424264     49293\n",
            "             ...  \n",
            "0.395601         1\n",
            "0.465940         1\n",
            "0.479062         1\n",
            "0.480000         1\n",
            "0.581206         1\n",
            "Name: ps_car_12, Length: 183, dtype: int64\n",
            "1\n",
            "missing values percentage 0.000168007365442901\n",
            "*********\n",
            "ps_car_14\n",
            "\n",
            "\n",
            "0.361525    17696\n",
            "0.358329    15523\n",
            "0.361939    11885\n",
            "0.368782    11626\n",
            "0.397492     9679\n",
            "            ...  \n",
            "0.411461        1\n",
            "0.414608        1\n",
            "0.423320        1\n",
            "0.302490        1\n",
            "0.442154        1\n",
            "Name: ps_car_14, Length: 849, dtype: int64\n",
            "42620\n",
            "missing values percentage 7.160473915176441\n",
            "*********\n"
          ],
          "name": "stdout"
        }
      ]
    },
    {
      "cell_type": "markdown",
      "metadata": {
        "id": "VH03UoImiU7u",
        "colab_type": "text"
      },
      "source": [
        "Handling Missing data variables :\n",
        "\n",
        "For a categorical column if the missing value percentage is negligible then the mode of the variable can be used to fill the missing data.\n",
        "For example ps_ind_02_cat variable's  missing values percentage is 0.0362, in this case it can be filled with mode which is 0.0"
      ]
    },
    {
      "cell_type": "code",
      "metadata": {
        "id": "2_nMEM09hqP1",
        "colab_type": "code",
        "outputId": "bf86c526-ee4b-4d5a-bf15-f9e61556da37",
        "colab": {
          "base_uri": "https://localhost:8080/",
          "height": 121
        }
      },
      "source": [
        "df2['ps_ind_02_cat'] = df2['ps_ind_02_cat'].fillna(df2['ps_ind_02_cat'].mode())"
      ],
      "execution_count": 0,
      "outputs": [
        {
          "output_type": "stream",
          "text": [
            "/usr/local/lib/python3.6/dist-packages/ipykernel_launcher.py:1: SettingWithCopyWarning: \n",
            "A value is trying to be set on a copy of a slice from a DataFrame.\n",
            "Try using .loc[row_indexer,col_indexer] = value instead\n",
            "\n",
            "See the caveats in the documentation: http://pandas.pydata.org/pandas-docs/stable/user_guide/indexing.html#returning-a-view-versus-a-copy\n",
            "  \"\"\"Entry point for launching an IPython kernel.\n"
          ],
          "name": "stderr"
        }
      ]
    },
    {
      "cell_type": "markdown",
      "metadata": {
        "id": "rq2hVzKCls_x",
        "colab_type": "text"
      },
      "source": [
        "For a categorical columns like ps_ind_05_cat , missing values count is 5809 which is higher than  few categorical values like 2.0 and 5.0.\n",
        "\n",
        "So in this scenario it is preferable to add missing values as another category with 7.0 as value"
      ]
    },
    {
      "cell_type": "code",
      "metadata": {
        "id": "Z2F9mH4yjfUD",
        "colab_type": "code",
        "outputId": "f1cad6fb-a3c8-4174-d4e7-0dde4bc57739",
        "colab": {
          "base_uri": "https://localhost:8080/",
          "height": 173
        }
      },
      "source": [
        "print(df2['ps_ind_05_cat'].isnull().sum())\n",
        "print(df2['ps_ind_05_cat'].value_counts())"
      ],
      "execution_count": 0,
      "outputs": [
        {
          "output_type": "stream",
          "text": [
            "5809\n",
            "0.0    528009\n",
            "6.0     20662\n",
            "4.0     18344\n",
            "1.0      8322\n",
            "3.0      8233\n",
            "2.0      4184\n",
            "5.0      1649\n",
            "Name: ps_ind_05_cat, dtype: int64\n"
          ],
          "name": "stdout"
        }
      ]
    },
    {
      "cell_type": "code",
      "metadata": {
        "id": "8gLko9clmR7d",
        "colab_type": "code",
        "outputId": "e98027ee-28f4-424d-9aca-75c9236291d6",
        "colab": {
          "base_uri": "https://localhost:8080/",
          "height": 225
        }
      },
      "source": [
        "df2['ps_ind_05_cat']=df2['ps_ind_05_cat'].fillna(7.0)\n",
        "df2['ps_car_05_cat']=df2['ps_car_05_cat'].fillna(2.0) # Added as separate category as 44% of missing data is present"
      ],
      "execution_count": 0,
      "outputs": [
        {
          "output_type": "stream",
          "text": [
            "/usr/local/lib/python3.6/dist-packages/ipykernel_launcher.py:1: SettingWithCopyWarning: \n",
            "A value is trying to be set on a copy of a slice from a DataFrame.\n",
            "Try using .loc[row_indexer,col_indexer] = value instead\n",
            "\n",
            "See the caveats in the documentation: http://pandas.pydata.org/pandas-docs/stable/user_guide/indexing.html#returning-a-view-versus-a-copy\n",
            "  \"\"\"Entry point for launching an IPython kernel.\n",
            "/usr/local/lib/python3.6/dist-packages/ipykernel_launcher.py:2: SettingWithCopyWarning: \n",
            "A value is trying to be set on a copy of a slice from a DataFrame.\n",
            "Try using .loc[row_indexer,col_indexer] = value instead\n",
            "\n",
            "See the caveats in the documentation: http://pandas.pydata.org/pandas-docs/stable/user_guide/indexing.html#returning-a-view-versus-a-copy\n",
            "  \n"
          ],
          "name": "stderr"
        }
      ]
    },
    {
      "cell_type": "code",
      "metadata": {
        "id": "yV3B91m73VQT",
        "colab_type": "code",
        "outputId": "19b854e2-a5e5-4b39-f188-d7536835af5c",
        "colab": {
          "base_uri": "https://localhost:8080/",
          "height": 35
        }
      },
      "source": [
        "df2['ps_car_05_cat'].isnull().sum() # Added as separate category as 44% of missing data is present"
      ],
      "execution_count": 0,
      "outputs": [
        {
          "output_type": "execute_result",
          "data": {
            "text/plain": [
              "0"
            ]
          },
          "metadata": {
            "tags": []
          },
          "execution_count": 114
        }
      ]
    },
    {
      "cell_type": "markdown",
      "metadata": {
        "id": "Qeqp9MHKmjjX",
        "colab_type": "text"
      },
      "source": [
        "For a continuous column like ps_reg_03 , missing values can be filled with mean value , after which the mean , std still remains the same or very less variance."
      ]
    },
    {
      "cell_type": "code",
      "metadata": {
        "id": "1w0XnyWsm5mK",
        "colab_type": "code",
        "outputId": "b2aad360-77a3-4357-a3d0-d740a6e95202",
        "colab": {
          "base_uri": "https://localhost:8080/",
          "height": 173
        }
      },
      "source": [
        "df2['ps_reg_03'].describe()"
      ],
      "execution_count": 0,
      "outputs": [
        {
          "output_type": "execute_result",
          "data": {
            "text/plain": [
              "count    487440.000000\n",
              "mean          0.894047\n",
              "std           0.345413\n",
              "min           0.061237\n",
              "25%           0.633443\n",
              "50%           0.801561\n",
              "75%           1.083974\n",
              "max           4.037945\n",
              "Name: ps_reg_03, dtype: float64"
            ]
          },
          "metadata": {
            "tags": []
          },
          "execution_count": 115
        }
      ]
    },
    {
      "cell_type": "code",
      "metadata": {
        "id": "YKCMZ3w8mm9X",
        "colab_type": "code",
        "outputId": "6a89701c-5cd4-421b-ed95-e9a0f282cc86",
        "colab": {
          "base_uri": "https://localhost:8080/",
          "height": 121
        }
      },
      "source": [
        "df2['ps_reg_03']=df2['ps_reg_03'].fillna(df2['ps_reg_03'].mean())"
      ],
      "execution_count": 0,
      "outputs": [
        {
          "output_type": "stream",
          "text": [
            "/usr/local/lib/python3.6/dist-packages/ipykernel_launcher.py:1: SettingWithCopyWarning: \n",
            "A value is trying to be set on a copy of a slice from a DataFrame.\n",
            "Try using .loc[row_indexer,col_indexer] = value instead\n",
            "\n",
            "See the caveats in the documentation: http://pandas.pydata.org/pandas-docs/stable/user_guide/indexing.html#returning-a-view-versus-a-copy\n",
            "  \"\"\"Entry point for launching an IPython kernel.\n"
          ],
          "name": "stderr"
        }
      ]
    },
    {
      "cell_type": "code",
      "metadata": {
        "id": "J4BHz0rJm7vD",
        "colab_type": "code",
        "outputId": "f7f8c96a-1d04-478b-dafd-fa94ebc3a6df",
        "colab": {
          "base_uri": "https://localhost:8080/",
          "height": 173
        }
      },
      "source": [
        "df2['ps_reg_03'].describe()"
      ],
      "execution_count": 0,
      "outputs": [
        {
          "output_type": "execute_result",
          "data": {
            "text/plain": [
              "count    595212.000000\n",
              "mean          0.894047\n",
              "std           0.312581\n",
              "min           0.061237\n",
              "25%           0.666615\n",
              "50%           0.894047\n",
              "75%           1.000000\n",
              "max           4.037945\n",
              "Name: ps_reg_03, dtype: float64"
            ]
          },
          "metadata": {
            "tags": []
          },
          "execution_count": 117
        }
      ]
    },
    {
      "cell_type": "code",
      "metadata": {
        "id": "97EuYNlsnOPS",
        "colab_type": "code",
        "colab": {}
      },
      "source": [
        " # For the below categorical values , added the mode value instead of calling mode() just to have clarity on what number being added.\n",
        "df2['ps_ind_02_cat'] = df2['ps_ind_02_cat'].fillna(1.0)\n",
        "df2['ps_ind_04_cat']=df2['ps_ind_04_cat'].fillna(0.0)\n",
        "df2['ps_car_01_cat']=df2['ps_car_01_cat'].fillna(11.0)\n",
        "df2['ps_car_07_cat']=df2['ps_car_07_cat'].fillna(1.0)\n",
        "df2['ps_car_09_cat']=df2['ps_car_09_cat'].fillna(2.0)\n",
        "df2['ps_car_11']=df2['ps_car_11'].fillna(3.0)\n",
        "df2['ps_car_12']=df2['ps_car_12'].fillna(df2['ps_car_12'].mean())\n",
        "df2['ps_car_14']=df2['ps_car_14'].fillna(df2['ps_car_14'].mean())\n"
      ],
      "execution_count": 0,
      "outputs": []
    },
    {
      "cell_type": "markdown",
      "metadata": {
        "id": "ZVg56DVcvAmE",
        "colab_type": "text"
      },
      "source": [
        "Correlation :\n",
        "Below interval variables have high correlation. \n",
        "\n",
        "ps_car_13 , ps_car_12 ,ps_car_14 have high correlation. So any two variables can be dropped.\n",
        "\n",
        "ps_reg_01 , ps_reg_02, ps_reg_03 have high correlation. So any two variables can be dropped."
      ]
    },
    {
      "cell_type": "code",
      "metadata": {
        "id": "G7KNXf6FqEHE",
        "colab_type": "code",
        "colab": {}
      },
      "source": [
        "from scipy.stats import spearmanr\n",
        "from scipy.stats import pearsonr"
      ],
      "execution_count": 0,
      "outputs": []
    },
    {
      "cell_type": "code",
      "metadata": {
        "id": "LwjkXq5mtcHD",
        "colab_type": "code",
        "outputId": "e4f5ced2-a70f-44bc-9fe2-e87e08b4d9c2",
        "colab": {
          "base_uri": "https://localhost:8080/",
          "height": 156
        }
      },
      "source": [
        "df_corr=['ps_calc_11','ps_calc_12','ps_calc_13','ps_calc_14','ps_car_13','ps_car_14','ps_calc_01','ps_calc_02','ps_calc_03','ps_calc_04','ps_calc_05','ps_calc_06','ps_calc_07','ps_calc_08','ps_calc_09','ps_calc_10','ps_ind_01','ps_ind_03','ps_ind_14','ps_ind_15','ps_reg_01','ps_reg_02','ps_reg_03','ps_car_11','ps_car_12']\n",
        "for col in df_corr:\n",
        "  #print(col)\n",
        "  for col_j in df_corr2:\n",
        "    if(col != col_j):\n",
        "      corr,_=spearmanr(df2[col],df2[col_j])\n",
        "      if(corr > 0.5):\n",
        "        print(col,',',col_j,',',corr)\n",
        " "
      ],
      "execution_count": 0,
      "outputs": [
        {
          "output_type": "stream",
          "text": [
            "ps_car_13 , ps_car_12 , 0.6632750994325141\n",
            "ps_car_14 , ps_car_12 , 0.5379956793198201\n",
            "ps_reg_01 , ps_reg_02 , 0.5372687943775057\n",
            "ps_reg_02 , ps_reg_01 , 0.5372687943775059\n",
            "ps_reg_02 , ps_reg_03 , 0.5559923067277589\n",
            "ps_reg_03 , ps_reg_02 , 0.5559923067277589\n",
            "ps_car_12 , ps_car_13 , 0.6632750994325141\n",
            "ps_car_12 , ps_car_14 , 0.5379956793198201\n"
          ],
          "name": "stdout"
        }
      ]
    },
    {
      "cell_type": "markdown",
      "metadata": {
        "id": "IDAiMtM-voae",
        "colab_type": "text"
      },
      "source": [
        "Correlation cannot be calculated on Ordinal Variables. usually correlation value will be nan."
      ]
    },
    {
      "cell_type": "code",
      "metadata": {
        "id": "pxBGUMEBpKJD",
        "colab_type": "code",
        "colab": {}
      },
      "source": [
        "cat_cols=['ps_ind_02_cat','ps_ind_04_cat','ps_ind_05_cat','ps_car_01_cat','ps_car_01_cat','ps_car_02_cat','ps_car_04_cat','ps_car_05_cat','ps_car_06_cat','ps_car_07_cat','ps_car_08_cat','ps_car_10_cat']"
      ],
      "execution_count": 0,
      "outputs": []
    },
    {
      "cell_type": "code",
      "metadata": {
        "id": "49MQ8iqpo0d6",
        "colab_type": "code",
        "colab": {}
      },
      "source": [
        "cat_cols2=cat_cols.copy()"
      ],
      "execution_count": 0,
      "outputs": []
    },
    {
      "cell_type": "code",
      "metadata": {
        "id": "LcUZmMx3pBr9",
        "colab_type": "code",
        "colab": {}
      },
      "source": [
        "for col in cat_cols:\n",
        "  \n",
        "  for col_j in cat_cols2:\n",
        "    corr,_=spearmanr(df[col],df[col_j])\n",
        "    print(col,',',col_j,',',corr)\n",
        "    #if(corr > 0.5):\n",
        "      #print(col,',',col_j,',',corr)\n",
        "      \n"
      ],
      "execution_count": 0,
      "outputs": []
    },
    {
      "cell_type": "markdown",
      "metadata": {
        "id": "zMt_SWISuibU",
        "colab_type": "text"
      },
      "source": [
        ""
      ]
    },
    {
      "cell_type": "code",
      "metadata": {
        "id": "puiaU9ujvz7X",
        "colab_type": "code",
        "colab": {}
      },
      "source": [
        "from sklearn.preprocessing import OneHotEncoder"
      ],
      "execution_count": 0,
      "outputs": []
    },
    {
      "cell_type": "code",
      "metadata": {
        "id": "OmFYbv2Y2VTU",
        "colab_type": "code",
        "colab": {}
      },
      "source": [
        "onehotencoder=OneHotEncoder(sparse=False)"
      ],
      "execution_count": 0,
      "outputs": []
    },
    {
      "cell_type": "code",
      "metadata": {
        "id": "FqnqQSFB2Z9_",
        "colab_type": "code",
        "colab": {}
      },
      "source": [
        "dataencoded=onehotencoder.fit_transform(df2[cat_cols])"
      ],
      "execution_count": 0,
      "outputs": []
    },
    {
      "cell_type": "code",
      "metadata": {
        "id": "pa2FP7KN52DG",
        "colab_type": "code",
        "colab": {}
      },
      "source": [
        "cat_encoded=pd.DataFrame(dataencoded)"
      ],
      "execution_count": 0,
      "outputs": []
    },
    {
      "cell_type": "code",
      "metadata": {
        "id": "wq6U9q3I6gFR",
        "colab_type": "code",
        "colab": {}
      },
      "source": [
        "cat_encoded.columns=onehotencoder.get_feature_names(cat_cols)"
      ],
      "execution_count": 0,
      "outputs": []
    },
    {
      "cell_type": "code",
      "metadata": {
        "id": "h85mvo84PiQm",
        "colab_type": "code",
        "colab": {}
      },
      "source": [
        "df2.drop(cat_cols,inplace=True,axis=1)"
      ],
      "execution_count": 0,
      "outputs": []
    },
    {
      "cell_type": "code",
      "metadata": {
        "id": "Uj1PaoM3P4xh",
        "colab_type": "code",
        "colab": {}
      },
      "source": [
        "df2=pd.concat([df2,cat_encoded],axis=1)"
      ],
      "execution_count": 0,
      "outputs": []
    },
    {
      "cell_type": "markdown",
      "metadata": {
        "id": "thL86nJlRzrn",
        "colab_type": "text"
      },
      "source": [
        "Scaling :\n",
        "Columns that need to be scaled are below :\n",
        "\n",
        " ps_ind_01 , ps_ind_02_cat ,ps_ind_03,ps_ind_05,ps_ind_15,ps_car_01_cat,ps_car_02_cat,ps_car_04_cat,ps_car_06_cat,ps_car_09_cat,ps_car_10_cat, ps_car_11_cat,ps_car_11, ps_car_15, ps_calc_04, ps_calc_05,ps_calc_06,ps_calc_07,ps_calc_08,ps_calc_09,ps_calc_10,ps_calc_11,ps_calc_12,ps_calc_13,ps_calc_14"
      ]
    },
    {
      "cell_type": "code",
      "metadata": {
        "id": "fiiO5-_qSCQ0",
        "colab_type": "code",
        "colab": {}
      },
      "source": [
        "from sklearn.preprocessing import StandardScaler\n",
        "scaler=StandardScaler()\n"
      ],
      "execution_count": 0,
      "outputs": []
    },
    {
      "cell_type": "code",
      "metadata": {
        "id": "YSBfi5PFR_jr",
        "colab_type": "code",
        "colab": {}
      },
      "source": [
        "rescale_cols=['ps_ind_01' , 'ps_ind_02_cat' ,'ps_ind_03','ps_ind_15','ps_car_01_cat','ps_car_02_cat','ps_car_04_cat','ps_car_06_cat','ps_car_09_cat','ps_car_10_cat', 'ps_car_11_cat','ps_car_11', 'ps_car_15', 'ps_calc_04', 'ps_calc_05','ps_calc_06','ps_calc_07','ps_calc_08','ps_calc_09','ps_calc_10','ps_calc_11','ps_calc_12','ps_calc_13','ps_calc_14']\n",
        "scaled_Data=scaler.fit_transform(df[rescale_cols])"
      ],
      "execution_count": 0,
      "outputs": []
    },
    {
      "cell_type": "code",
      "metadata": {
        "id": "PxOMelrZSKh4",
        "colab_type": "code",
        "colab": {}
      },
      "source": [
        "df_scaled=pd.DataFrame(scaled_Data,columns=rescale_cols)\n",
        "df.drop(rescale_cols,axis=1,inplace=True)\n",
        "df_final=pd.concat([df,df_scaled],axis=1)"
      ],
      "execution_count": 0,
      "outputs": []
    }
  ]
}