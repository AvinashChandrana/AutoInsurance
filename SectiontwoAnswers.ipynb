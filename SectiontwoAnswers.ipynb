{
  "nbformat": 4,
  "nbformat_minor": 0,
  "metadata": {
    "colab": {
      "name": "SectiontwoAnswers.ipynb",
      "provenance": []
    },
    "kernelspec": {
      "name": "python3",
      "display_name": "Python 3"
    }
  },
  "cells": [
    {
      "cell_type": "markdown",
      "metadata": {
        "id": "w0TsDu_7_iEe",
        "colab_type": "text"
      },
      "source": [
        "Simple Logistic Regression has high accuracy score because of imbalanced data."
      ]
    },
    {
      "cell_type": "code",
      "metadata": {
        "id": "sVMew0CT_QWm",
        "colab_type": "code",
        "colab": {}
      },
      "source": [
        "lgModel=LogisticRegression()"
      ],
      "execution_count": 0,
      "outputs": []
    },
    {
      "cell_type": "code",
      "metadata": {
        "id": "qHCcFuxSeZba",
        "colab_type": "code",
        "outputId": "3af0ab76-d3bb-4c9e-f2ee-29700571102c",
        "colab": {
          "base_uri": "https://localhost:8080/",
          "height": 104
        }
      },
      "source": [
        "lgModel.fit(train_dta,Y_train)"
      ],
      "execution_count": 0,
      "outputs": [
        {
          "output_type": "execute_result",
          "data": {
            "text/plain": [
              "LogisticRegression(C=1.0, class_weight=None, dual=False, fit_intercept=True,\n",
              "                   intercept_scaling=1, l1_ratio=None, max_iter=100,\n",
              "                   multi_class='auto', n_jobs=None, penalty='l2',\n",
              "                   random_state=None, solver='lbfgs', tol=0.0001, verbose=0,\n",
              "                   warm_start=False)"
            ]
          },
          "metadata": {
            "tags": []
          },
          "execution_count": 31
        }
      ]
    },
    {
      "cell_type": "code",
      "metadata": {
        "id": "F7cIOo3X_1IZ",
        "colab_type": "code",
        "colab": {}
      },
      "source": [
        "pred_y=lgModel.predict(test_dta)"
      ],
      "execution_count": 0,
      "outputs": []
    },
    {
      "cell_type": "code",
      "metadata": {
        "id": "rupHO0E7zyVL",
        "colab_type": "code",
        "outputId": "a006d31e-5e18-48f0-d910-9bcefcd671b9",
        "colab": {
          "base_uri": "https://localhost:8080/",
          "height": 35
        }
      },
      "source": [
        "lgModel.score(test_dta,Y_test)"
      ],
      "execution_count": 0,
      "outputs": [
        {
          "output_type": "execute_result",
          "data": {
            "text/plain": [
              "0.963525682668399"
            ]
          },
          "metadata": {
            "tags": []
          },
          "execution_count": 36
        }
      ]
    },
    {
      "cell_type": "code",
      "metadata": {
        "id": "yV9lkTUA-POl",
        "colab_type": "code",
        "outputId": "cfd66e69-a850-4155-9dd4-691bd32f58f3",
        "colab": {
          "base_uri": "https://localhost:8080/",
          "height": 52
        }
      },
      "source": [
        "print(confusion_matrix(Y_test,pred_y))"
      ],
      "execution_count": 0,
      "outputs": [
        {
          "output_type": "stream",
          "text": [
            "[[172051      0]\n",
            " [  6513      0]]\n"
          ],
          "name": "stdout"
        }
      ]
    },
    {
      "cell_type": "markdown",
      "metadata": {
        "id": "YprhRqFrAGX4",
        "colab_type": "text"
      },
      "source": [
        "### **f1 score is 0 because the model is heavily biased and not classifying class 1. Model is predicting only class 0 as constant value.**"
      ]
    },
    {
      "cell_type": "code",
      "metadata": {
        "id": "Ca8zhvp7vUQi",
        "colab_type": "code",
        "outputId": "c0e39e90-1ed2-43be-b9cf-34b3d3260600",
        "colab": {
          "base_uri": "https://localhost:8080/",
          "height": 35
        }
      },
      "source": [
        "f1_score(Y_test,pred_y)"
      ],
      "execution_count": 0,
      "outputs": [
        {
          "output_type": "execute_result",
          "data": {
            "text/plain": [
              "0.0"
            ]
          },
          "metadata": {
            "tags": []
          },
          "execution_count": 44
        }
      ]
    },
    {
      "cell_type": "markdown",
      "metadata": {
        "id": "TYgHOJgNAV1d",
        "colab_type": "text"
      },
      "source": [
        "## **LogistcRegression with SMOTE to deal with imbalanced data. There is a nominal increase in f1 score.**"
      ]
    },
    {
      "cell_type": "code",
      "metadata": {
        "id": "BoO-Zg358MLM",
        "colab_type": "code",
        "colab": {}
      },
      "source": [
        "os = SMOTE(random_state=0)\n",
        "X_train, X_test, y_train, y_test = train_test_split(df_final, target, test_size=0.3, random_state=0)\n",
        "columns = X_train.columns"
      ],
      "execution_count": 0,
      "outputs": []
    },
    {
      "cell_type": "code",
      "metadata": {
        "id": "5bKcjcYt-SGE",
        "colab_type": "code",
        "outputId": "b817ec0f-155f-4509-88a7-48ce28f232e0",
        "colab": {
          "base_uri": "https://localhost:8080/",
          "height": 159
        }
      },
      "source": [
        "os_data_X,os_data_y=os.fit_sample(X_train, y_train)\n",
        "os_data_X = pd.DataFrame(data=os_data_X,columns=columns )\n",
        "os_data_y= pd.DataFrame(data=os_data_y,columns=['y'])\n",
        "# we can Check the numbers of our data\n",
        "print(\"length of oversampled data is \",len(os_data_X))\n",
        "print(\"Number of no subscription in oversampled data\",len(os_data_y[os_data_y['y']==0]))\n",
        "print(\"Number of subscription\",len(os_data_y[os_data_y['y']==1]))\n",
        "print(\"Proportion of no subscription data in oversampled data is \",len(os_data_y[os_data_y['y']==0])/len(os_data_X))\n",
        "print(\"Proportion of subscription data in oversampled data is \",len(os_data_y[os_data_y['y']==1])/len(os_data_X))"
      ],
      "execution_count": 0,
      "outputs": [
        {
          "output_type": "stream",
          "text": [
            "/usr/local/lib/python3.6/dist-packages/sklearn/utils/deprecation.py:87: FutureWarning: Function safe_indexing is deprecated; safe_indexing is deprecated in version 0.22 and will be removed in version 0.24.\n",
            "  warnings.warn(msg, category=FutureWarning)\n"
          ],
          "name": "stderr"
        },
        {
          "output_type": "stream",
          "text": [
            "length of oversampled data is  802866\n",
            "Number of no subscription in oversampled data 401433\n",
            "Number of subscription 401433\n",
            "Proportion of no subscription data in oversampled data is  0.5\n",
            "Proportion of subscription data in oversampled data is  0.5\n"
          ],
          "name": "stdout"
        }
      ]
    },
    {
      "cell_type": "code",
      "metadata": {
        "id": "AFnh-C1UrUl7",
        "colab_type": "code",
        "outputId": "96fb09e2-b145-4d31-88ce-b8b90e61be29",
        "colab": {
          "base_uri": "https://localhost:8080/",
          "height": 159
        }
      },
      "source": [
        "lgModel=LogisticRegression()\n",
        "lgModel.fit(train_dta,os_data_y)"
      ],
      "execution_count": 0,
      "outputs": [
        {
          "output_type": "stream",
          "text": [
            "/usr/local/lib/python3.6/dist-packages/sklearn/utils/validation.py:760: DataConversionWarning: A column-vector y was passed when a 1d array was expected. Please change the shape of y to (n_samples, ), for example using ravel().\n",
            "  y = column_or_1d(y, warn=True)\n"
          ],
          "name": "stderr"
        },
        {
          "output_type": "execute_result",
          "data": {
            "text/plain": [
              "LogisticRegression(C=1.0, class_weight=None, dual=False, fit_intercept=True,\n",
              "                   intercept_scaling=1, l1_ratio=None, max_iter=100,\n",
              "                   multi_class='auto', n_jobs=None, penalty='l2',\n",
              "                   random_state=None, solver='lbfgs', tol=0.0001, verbose=0,\n",
              "                   warm_start=False)"
            ]
          },
          "metadata": {
            "tags": []
          },
          "execution_count": 18
        }
      ]
    },
    {
      "cell_type": "code",
      "metadata": {
        "id": "XLz3QYCCuOmc",
        "colab_type": "code",
        "outputId": "155d806e-67bf-41d7-d799-08014b167ccb",
        "colab": {
          "base_uri": "https://localhost:8080/",
          "height": 35
        }
      },
      "source": [
        "lgModel.score(test_dta,y_test)"
      ],
      "execution_count": 0,
      "outputs": [
        {
          "output_type": "execute_result",
          "data": {
            "text/plain": [
              "0.49736789050424496"
            ]
          },
          "metadata": {
            "tags": []
          },
          "execution_count": 19
        }
      ]
    },
    {
      "cell_type": "code",
      "metadata": {
        "id": "mW3e2gg7vENk",
        "colab_type": "code",
        "outputId": "c6f09771-8607-4874-8e03-8c7d6e193298",
        "colab": {
          "base_uri": "https://localhost:8080/",
          "height": 52
        }
      },
      "source": [
        "print(confusion_matrix(y_test,pred_y))"
      ],
      "execution_count": 0,
      "outputs": [
        {
          "output_type": "stream",
          "text": [
            "[[85050 87035]\n",
            " [ 2717  3762]]\n"
          ],
          "name": "stdout"
        }
      ]
    },
    {
      "cell_type": "code",
      "metadata": {
        "id": "oFjef55mvNWS",
        "colab_type": "code",
        "outputId": "fe237720-54ec-4e70-f62f-79b92d3f1f3e",
        "colab": {
          "base_uri": "https://localhost:8080/",
          "height": 173
        }
      },
      "source": [
        "print(classification_report(y_test,pred_y))"
      ],
      "execution_count": 0,
      "outputs": [
        {
          "output_type": "stream",
          "text": [
            "              precision    recall  f1-score   support\n",
            "\n",
            "           0       0.97      0.49      0.65    172085\n",
            "           1       0.04      0.58      0.08      6479\n",
            "\n",
            "    accuracy                           0.50    178564\n",
            "   macro avg       0.51      0.54      0.37    178564\n",
            "weighted avg       0.94      0.50      0.63    178564\n",
            "\n"
          ],
          "name": "stdout"
        }
      ]
    },
    {
      "cell_type": "markdown",
      "metadata": {
        "id": "v5s5i6JxKfc1",
        "colab_type": "text"
      },
      "source": [
        "## **LinearSVC Model did fairly well with modified class weights**"
      ]
    },
    {
      "cell_type": "code",
      "metadata": {
        "id": "gnFl7s8FRqDK",
        "colab_type": "code",
        "colab": {}
      },
      "source": [
        "model = LinearSVC(dual=True,max_iter=2000,class_weight={0:1,1:10})"
      ],
      "execution_count": 0,
      "outputs": []
    },
    {
      "cell_type": "code",
      "metadata": {
        "id": "ZjGRoVEbR6aD",
        "colab_type": "code",
        "outputId": "1cfebd5b-fe6e-4b3e-f109-4be5e398edf4",
        "colab": {
          "base_uri": "https://localhost:8080/",
          "height": 121
        }
      },
      "source": [
        "model.fit(train_dta,Y_train)"
      ],
      "execution_count": 0,
      "outputs": [
        {
          "output_type": "stream",
          "text": [
            "/usr/local/lib/python3.6/dist-packages/sklearn/svm/_base.py:947: ConvergenceWarning: Liblinear failed to converge, increase the number of iterations.\n",
            "  \"the number of iterations.\", ConvergenceWarning)\n"
          ],
          "name": "stderr"
        },
        {
          "output_type": "execute_result",
          "data": {
            "text/plain": [
              "LinearSVC(C=1.0, class_weight={0: 1, 1: 10}, dual=True, fit_intercept=True,\n",
              "          intercept_scaling=1, loss='squared_hinge', max_iter=2000,\n",
              "          multi_class='ovr', penalty='l2', random_state=None, tol=0.0001,\n",
              "          verbose=0)"
            ]
          },
          "metadata": {
            "tags": []
          },
          "execution_count": 18
        }
      ]
    },
    {
      "cell_type": "code",
      "metadata": {
        "id": "YnIaw2zSUFa9",
        "colab_type": "code",
        "outputId": "200cfca6-f122-4ba8-dc4d-af05ae47ab67",
        "colab": {
          "base_uri": "https://localhost:8080/",
          "height": 35
        }
      },
      "source": [
        "linearsvc_y_pred = model.predict(test_dta)\n",
        "print(accuracy_score(Y_test,linearsvc_y_pred))"
      ],
      "execution_count": 0,
      "outputs": [
        {
          "output_type": "stream",
          "text": [
            "0.9595047153961604\n"
          ],
          "name": "stdout"
        }
      ]
    },
    {
      "cell_type": "code",
      "metadata": {
        "id": "W9e-kd-HUUdo",
        "colab_type": "code",
        "outputId": "4b092901-5eb5-4037-bf7a-03ba24cc4936",
        "colab": {
          "base_uri": "https://localhost:8080/",
          "height": 52
        }
      },
      "source": [
        "print(confusion_matrix(Y_test,linearsvc_y_pred))"
      ],
      "execution_count": 0,
      "outputs": [
        {
          "output_type": "stream",
          "text": [
            "[[171219    841]\n",
            " [  6390    114]]\n"
          ],
          "name": "stdout"
        }
      ]
    },
    {
      "cell_type": "markdown",
      "metadata": {
        "id": "_bzmq6kfXdRM",
        "colab_type": "text"
      },
      "source": [
        "## **XGBoostClassifier**"
      ]
    },
    {
      "cell_type": "code",
      "metadata": {
        "id": "hPA-ZjHJX-c8",
        "colab_type": "code",
        "outputId": "b114f1d8-bb3a-4d86-d90c-424fdf720057",
        "colab": {}
      },
      "source": [
        "X_train,X_test,Y_train,Y_test=train_test_split(df_final,target,test_size=0.3,random_state=2)\n",
        "\n",
        "model = XGBClassifier(scale_pos_weight=10)\n",
        "\n",
        "skfold=StratifiedKFold(n_splits=10,random_state=2)\n",
        "\n",
        "\n",
        "roc_auc=cross_val_score(model,X_train,Y_train,scoring='roc_auc',cv=skfold) # after setting scale_pos_weight to 27\n",
        "\n",
        "print(roc_auc)"
      ],
      "execution_count": 0,
      "outputs": [
        {
          "output_type": "stream",
          "text": [
            "[0.63280109 0.64246721 0.64928406 0.65120351 0.6331232  0.64161981\n",
            " 0.63834732 0.63426045 0.63518893 0.62573243]\n"
          ],
          "name": "stdout"
        }
      ]
    },
    {
      "cell_type": "code",
      "metadata": {
        "id": "w4MUD6wvX-dC",
        "colab_type": "code",
        "colab": {}
      },
      "source": [
        "model.fit(X_train.values,Y_train.values)\n",
        "\n",
        "pred_y=model.predict(X_test.values)"
      ],
      "execution_count": 0,
      "outputs": []
    },
    {
      "cell_type": "code",
      "metadata": {
        "id": "nLNkvT6dX-dH",
        "colab_type": "code",
        "outputId": "ebcf0cf1-0d9e-4cd0-b9fe-18053d7404b6",
        "colab": {}
      },
      "source": [
        "#np.unique(pred_y)\n",
        "\n",
        "print('accuracy score ',accuracy_score(Y_test,pred_y))\n",
        "\n",
        "print(confusion_matrix(Y_test,pred_y))\n",
        "\n",
        "print(f1_score(Y_test,pred_y))"
      ],
      "execution_count": 0,
      "outputs": [
        {
          "output_type": "stream",
          "text": [
            "accuracy score  0.9524596223202886\n",
            "[[169786   2274]\n",
            " [  6215    289]]\n",
            "0.06374765633616411\n"
          ],
          "name": "stdout"
        }
      ]
    },
    {
      "cell_type": "code",
      "metadata": {
        "id": "9oCRp2_OX-dP",
        "colab_type": "code",
        "colab": {}
      },
      "source": [
        "y_probs=model.predict_proba(X_test.values)"
      ],
      "execution_count": 0,
      "outputs": []
    },
    {
      "cell_type": "code",
      "metadata": {
        "id": "VTSRms1rX-de",
        "colab_type": "code",
        "outputId": "d595b69c-4dec-4631-ee0b-333617a808af",
        "colab": {}
      },
      "source": [
        "y_probs_1=y_probs[:,1]\n",
        "yprobs1=y_probs_1 > 0.5\n",
        "yprobs1 = yprobs1 * 1\n",
        "np.unique(yprobs1,return_counts=True)"
      ],
      "execution_count": 0,
      "outputs": [
        {
          "output_type": "execute_result",
          "data": {
            "text/plain": [
              "(array([0, 1]), array([176001,   2563], dtype=int64))"
            ]
          },
          "metadata": {
            "tags": []
          },
          "execution_count": 27
        }
      ]
    },
    {
      "cell_type": "code",
      "metadata": {
        "id": "2gJ5TCGbYibh",
        "colab_type": "code",
        "colab": {}
      },
      "source": [
        "lr_precision, lr_recall, _=precision_recall_curve(Y_test,y_probs_1)"
      ],
      "execution_count": 0,
      "outputs": []
    },
    {
      "cell_type": "code",
      "metadata": {
        "id": "hVVz3WbrX-dn",
        "colab_type": "code",
        "outputId": "315cd9e0-93d5-4720-8268-1ad09f925e31",
        "colab": {}
      },
      "source": [
        "auc(lr_recall, lr_precision)"
      ],
      "execution_count": 0,
      "outputs": [
        {
          "output_type": "execute_result",
          "data": {
            "text/plain": [
              "0.06332816088157696"
            ]
          },
          "metadata": {
            "tags": []
          },
          "execution_count": 39
        }
      ]
    },
    {
      "cell_type": "markdown",
      "metadata": {
        "id": "Tj4raC30cwsa",
        "colab_type": "text"
      },
      "source": [
        "# **If not missing positive a priority then XGBoost is the by far the best classifier.**\n",
        "\n",
        "**LogisticRegressin would do good if not missing **"
      ]
    }
  ]
}