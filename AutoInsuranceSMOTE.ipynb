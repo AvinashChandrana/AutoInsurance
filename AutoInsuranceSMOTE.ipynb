{
  "nbformat": 4,
  "nbformat_minor": 0,
  "metadata": {
    "colab": {
      "name": "AutoInsuranceSMOTE.ipynb",
      "provenance": []
    },
    "kernelspec": {
      "name": "python3",
      "display_name": "Python 3"
    },
    "accelerator": "GPU"
  },
  "cells": [
    {
      "cell_type": "code",
      "metadata": {
        "id": "hKJ_zoi_7MPy",
        "colab_type": "code",
        "colab": {}
      },
      "source": [
        "import pandas as pd\n",
        "import numpy as np\n",
        "import seaborn as sns\n",
        "from sklearn.linear_model import LogisticRegression\n",
        "from sklearn.model_selection import train_test_split\n",
        "from sklearn.preprocessing import StandardScaler\n",
        "from imblearn.over_sampling import SMOTE\n",
        "from sklearn.feature_selection import RFE\n",
        "from sklearn.metrics import confusion_matrix,classification_report\n",
        "from sklearn.decomposition import PCA\n",
        "import pickle"
      ],
      "execution_count": 0,
      "outputs": []
    },
    {
      "cell_type": "code",
      "metadata": {
        "id": "E1y3KoFG7pvx",
        "colab_type": "code",
        "colab": {}
      },
      "source": [
        "def handleMIssingVals(df2):\n",
        "  df2['ps_ind_02_cat'] = df2['ps_ind_02_cat'].fillna(1.0)\n",
        "  df2['ps_ind_04_cat']=df2['ps_ind_04_cat'].fillna(0.0)\n",
        "  df2['ps_ind_05_cat']=df2['ps_ind_05_cat'].fillna(7.0)\n",
        "  df2['ps_reg_03']=df2['ps_reg_03'].fillna(df2['ps_reg_03'].mean())\n",
        "  df2['ps_car_01_cat']=df2['ps_car_01_cat'].fillna(11.0)\n",
        "  df2['ps_car_05_cat']=df2['ps_car_05_cat'].fillna(2.0)\n",
        "  df2['ps_car_07_cat']=df2['ps_car_07_cat'].fillna(1.0)\n",
        "  df2['ps_car_09_cat']=df2['ps_car_09_cat'].fillna(2.0)\n",
        "  df2['ps_car_11']=df2['ps_car_11'].fillna(3.0)\n",
        "  df2['ps_car_12']=df2['ps_car_12'].fillna(df2['ps_car_12'].mean())\n",
        "  df2['ps_car_14']=df2['ps_car_14'].fillna(df2['ps_car_14'].mean())"
      ],
      "execution_count": 0,
      "outputs": []
    },
    {
      "cell_type": "code",
      "metadata": {
        "id": "nMcvnEqR7kr9",
        "colab_type": "code",
        "colab": {}
      },
      "source": [
        "df=pd.read_csv('/content/drive/My Drive/Colab Notebooks/auto.csv')\n",
        "df=df.replace(-1,np.nan)\n",
        "handleMIssingVals(df)"
      ],
      "execution_count": 0,
      "outputs": []
    },
    {
      "cell_type": "code",
      "metadata": {
        "id": "LGS_FBk37qmc",
        "colab_type": "code",
        "colab": {}
      },
      "source": [
        "target=df['target']"
      ],
      "execution_count": 0,
      "outputs": []
    },
    {
      "cell_type": "code",
      "metadata": {
        "id": "JG5uZW9N73eD",
        "colab_type": "code",
        "colab": {}
      },
      "source": [
        "drop_cols=['id', 'ps_car_13' ,'ps_car_14' , 'ps_reg_03' , 'ps_ind_10_bin' , 'ps_ind_11_bin' , 'ps_ind_13_bin' ,'ps_ind_14' , 'ps_car_03_cat','target']\n",
        "df.drop(drop_cols,axis=1,inplace=True)"
      ],
      "execution_count": 0,
      "outputs": []
    },
    {
      "cell_type": "code",
      "metadata": {
        "id": "Xe9cKSEd75Y7",
        "colab_type": "code",
        "colab": {}
      },
      "source": [
        "cat_cols=df[['ps_car_11_cat','ps_ind_02_cat','ps_ind_04_cat','ps_ind_05_cat','ps_car_01_cat','ps_car_04_cat','ps_car_05_cat','ps_car_06_cat','ps_car_10_cat']]"
      ],
      "execution_count": 0,
      "outputs": []
    },
    {
      "cell_type": "code",
      "metadata": {
        "id": "AMHzfJN28Jjw",
        "colab_type": "code",
        "colab": {}
      },
      "source": [
        "for eachcol in cat_cols:\n",
        "  dummies=pd.get_dummies(cat_cols[eachcol],prefix_sep='_',prefix=eachcol)\n",
        "  df=df.join(dummies)\n",
        "data_vars=df.columns.values.tolist()\n",
        "to_keep=[i for i in data_vars if i not in cat_cols]\n",
        "df_final=df[to_keep]"
      ],
      "execution_count": 0,
      "outputs": []
    },
    {
      "cell_type": "code",
      "metadata": {
        "id": "vredV-wspiPk",
        "colab_type": "code",
        "outputId": "9b4fbe2e-cf3a-49e2-ec5e-1e047717a507",
        "colab": {
          "base_uri": "https://localhost:8080/",
          "height": 69
        }
      },
      "source": [
        "target.value_counts()"
      ],
      "execution_count": 0,
      "outputs": [
        {
          "output_type": "execute_result",
          "data": {
            "text/plain": [
              "0    573518\n",
              "1     21694\n",
              "Name: target, dtype: int64"
            ]
          },
          "metadata": {
            "tags": []
          },
          "execution_count": 8
        }
      ]
    },
    {
      "cell_type": "code",
      "metadata": {
        "id": "8HhPW7Z-swrO",
        "colab_type": "code",
        "colab": {}
      },
      "source": [
        "rescale_cols=['ps_ind_01' ,'ps_ind_03','ps_ind_15','ps_car_11', 'ps_car_15', 'ps_calc_04', 'ps_calc_05','ps_calc_06','ps_calc_07','ps_calc_08','ps_calc_09','ps_calc_10','ps_calc_11','ps_calc_12','ps_calc_13','ps_calc_14']\n",
        "scaler=StandardScaler()\n",
        "scaled_Data=scaler.fit_transform(df_final[rescale_cols])"
      ],
      "execution_count": 0,
      "outputs": []
    },
    {
      "cell_type": "code",
      "metadata": {
        "id": "jS_WHJ8QszcC",
        "colab_type": "code",
        "outputId": "eb26a653-dfe3-4dda-dfec-60ebb0d7c2be",
        "colab": {
          "base_uri": "https://localhost:8080/",
          "height": 104
        }
      },
      "source": [
        "df_scaled=pd.DataFrame(scaled_Data,columns=rescale_cols)\n",
        "df_final.drop(rescale_cols,axis=1,inplace=True)\n",
        "df_final=pd.concat([df_final,df_scaled],axis=1)"
      ],
      "execution_count": 0,
      "outputs": [
        {
          "output_type": "stream",
          "text": [
            "/usr/local/lib/python3.6/dist-packages/pandas/core/frame.py:4117: SettingWithCopyWarning: \n",
            "A value is trying to be set on a copy of a slice from a DataFrame\n",
            "\n",
            "See the caveats in the documentation: http://pandas.pydata.org/pandas-docs/stable/user_guide/indexing.html#returning-a-view-versus-a-copy\n",
            "  errors=errors,\n"
          ],
          "name": "stderr"
        }
      ]
    },
    {
      "cell_type": "code",
      "metadata": {
        "id": "BoO-Zg358MLM",
        "colab_type": "code",
        "colab": {}
      },
      "source": [
        "os = SMOTE(random_state=0)\n",
        "X_train, X_test, y_train, y_test = train_test_split(df_final, target, test_size=0.3, random_state=0)\n",
        "columns = X_train.columns"
      ],
      "execution_count": 0,
      "outputs": []
    },
    {
      "cell_type": "code",
      "metadata": {
        "id": "5bKcjcYt-SGE",
        "colab_type": "code",
        "outputId": "b817ec0f-155f-4509-88a7-48ce28f232e0",
        "colab": {
          "base_uri": "https://localhost:8080/",
          "height": 159
        }
      },
      "source": [
        "os_data_X,os_data_y=os.fit_sample(X_train, y_train)\n",
        "os_data_X = pd.DataFrame(data=os_data_X,columns=columns )\n",
        "os_data_y= pd.DataFrame(data=os_data_y,columns=['y'])\n",
        "# we can Check the numbers of our data\n",
        "print(\"length of oversampled data is \",len(os_data_X))\n",
        "print(\"Number of no subscription in oversampled data\",len(os_data_y[os_data_y['y']==0]))\n",
        "print(\"Number of subscription\",len(os_data_y[os_data_y['y']==1]))\n",
        "print(\"Proportion of no subscription data in oversampled data is \",len(os_data_y[os_data_y['y']==0])/len(os_data_X))\n",
        "print(\"Proportion of subscription data in oversampled data is \",len(os_data_y[os_data_y['y']==1])/len(os_data_X))"
      ],
      "execution_count": 0,
      "outputs": [
        {
          "output_type": "stream",
          "text": [
            "/usr/local/lib/python3.6/dist-packages/sklearn/utils/deprecation.py:87: FutureWarning: Function safe_indexing is deprecated; safe_indexing is deprecated in version 0.22 and will be removed in version 0.24.\n",
            "  warnings.warn(msg, category=FutureWarning)\n"
          ],
          "name": "stderr"
        },
        {
          "output_type": "stream",
          "text": [
            "length of oversampled data is  802866\n",
            "Number of no subscription in oversampled data 401433\n",
            "Number of subscription 401433\n",
            "Proportion of no subscription data in oversampled data is  0.5\n",
            "Proportion of subscription data in oversampled data is  0.5\n"
          ],
          "name": "stdout"
        }
      ]
    },
    {
      "cell_type": "code",
      "metadata": {
        "id": "vgUvtNka-Z36",
        "colab_type": "code",
        "colab": {}
      },
      "source": [
        "data_final_vars=df_final.columns.values.tolist()\n",
        "y=['y']\n",
        "X=[i for i in data_final_vars if i not in y]\n",
        "\n"
      ],
      "execution_count": 0,
      "outputs": []
    },
    {
      "cell_type": "code",
      "metadata": {
        "id": "1cNKmVSC-8pX",
        "colab_type": "code",
        "outputId": "911e0425-f521-4918-fa1a-10fb97d5e873",
        "colab": {
          "base_uri": "https://localhost:8080/",
          "height": 69
        }
      },
      "source": [
        "os_data_y['y'].value_counts()"
      ],
      "execution_count": 0,
      "outputs": [
        {
          "output_type": "execute_result",
          "data": {
            "text/plain": [
              "1    401433\n",
              "0    401433\n",
              "Name: y, dtype: int64"
            ]
          },
          "metadata": {
            "tags": []
          },
          "execution_count": 14
        }
      ]
    },
    {
      "cell_type": "code",
      "metadata": {
        "id": "lkFJK1B6slmj",
        "colab_type": "code",
        "colab": {}
      },
      "source": [
        ""
      ],
      "execution_count": 0,
      "outputs": []
    },
    {
      "cell_type": "code",
      "metadata": {
        "id": "l0DpJSKmqsO6",
        "colab_type": "code",
        "colab": {}
      },
      "source": [
        "pca = PCA(n_components=10)\n",
        "train_pca=pca.fit(os_data_X)\n",
        "train_dta=pca.transform(os_data_X)\n",
        "test_dta=pca.transform(X_test)"
      ],
      "execution_count": 0,
      "outputs": []
    },
    {
      "cell_type": "code",
      "metadata": {
        "id": "yf-uNIhn-3Tr",
        "colab_type": "code",
        "colab": {}
      },
      "source": [
        "principalDF=pd.DataFrame(train_dta,columns=['Principal Component1','Principal Component2','Principal Component3','Principal Component4','Principal Component5','Principal Component6','Principal Component7','Principal Component8','Principal Component9','Principal Component10'])"
      ],
      "execution_count": 0,
      "outputs": []
    },
    {
      "cell_type": "code",
      "metadata": {
        "id": "IlGCSx-qrN8k",
        "colab_type": "code",
        "outputId": "54352e7a-599b-449c-f00a-9e7287db02c0",
        "colab": {
          "base_uri": "https://localhost:8080/",
          "height": 35
        }
      },
      "source": [
        "principalDF.shape"
      ],
      "execution_count": 0,
      "outputs": [
        {
          "output_type": "execute_result",
          "data": {
            "text/plain": [
              "(802866, 10)"
            ]
          },
          "metadata": {
            "tags": []
          },
          "execution_count": 36
        }
      ]
    },
    {
      "cell_type": "code",
      "metadata": {
        "id": "ZmIrqdGM_4a4",
        "colab_type": "code",
        "colab": {}
      },
      "source": [
        "from sklearn.feature_selection import RFE"
      ],
      "execution_count": 0,
      "outputs": []
    },
    {
      "cell_type": "code",
      "metadata": {
        "id": "MLcOb1IY_-Ee",
        "colab_type": "code",
        "outputId": "ace3a1a0-494e-417e-aa8f-9c14d282a24a",
        "colab": {
          "base_uri": "https://localhost:8080/",
          "height": 107
        }
      },
      "source": [
        "rfelgModel=LogisticRegression()\n",
        "rfe = RFE(rfelgModel, 5)\n",
        "rfe = rfe.fit(principalDF, os_data_y)\n",
        "print(rfe.support_)\n",
        "print(rfe.ranking_)"
      ],
      "execution_count": 0,
      "outputs": [
        {
          "output_type": "stream",
          "text": [
            "/usr/local/lib/python3.6/dist-packages/sklearn/utils/validation.py:760: DataConversionWarning: A column-vector y was passed when a 1d array was expected. Please change the shape of y to (n_samples, ), for example using ravel().\n",
            "  y = column_or_1d(y, warn=True)\n"
          ],
          "name": "stderr"
        },
        {
          "output_type": "stream",
          "text": [
            "[False False  True False  True  True False  True  True False]\n",
            "[6 5 1 3 1 1 4 1 1 2]\n"
          ],
          "name": "stdout"
        }
      ]
    },
    {
      "cell_type": "code",
      "metadata": {
        "id": "AFnh-C1UrUl7",
        "colab_type": "code",
        "outputId": "96fb09e2-b145-4d31-88ce-b8b90e61be29",
        "colab": {
          "base_uri": "https://localhost:8080/",
          "height": 159
        }
      },
      "source": [
        "lgModel=LogisticRegression()\n",
        "lgModel.fit(train_dta,os_data_y)"
      ],
      "execution_count": 0,
      "outputs": [
        {
          "output_type": "stream",
          "text": [
            "/usr/local/lib/python3.6/dist-packages/sklearn/utils/validation.py:760: DataConversionWarning: A column-vector y was passed when a 1d array was expected. Please change the shape of y to (n_samples, ), for example using ravel().\n",
            "  y = column_or_1d(y, warn=True)\n"
          ],
          "name": "stderr"
        },
        {
          "output_type": "execute_result",
          "data": {
            "text/plain": [
              "LogisticRegression(C=1.0, class_weight=None, dual=False, fit_intercept=True,\n",
              "                   intercept_scaling=1, l1_ratio=None, max_iter=100,\n",
              "                   multi_class='auto', n_jobs=None, penalty='l2',\n",
              "                   random_state=None, solver='lbfgs', tol=0.0001, verbose=0,\n",
              "                   warm_start=False)"
            ]
          },
          "metadata": {
            "tags": []
          },
          "execution_count": 18
        }
      ]
    },
    {
      "cell_type": "code",
      "metadata": {
        "id": "XLz3QYCCuOmc",
        "colab_type": "code",
        "outputId": "155d806e-67bf-41d7-d799-08014b167ccb",
        "colab": {
          "base_uri": "https://localhost:8080/",
          "height": 35
        }
      },
      "source": [
        "lgModel.score(test_dta,y_test)"
      ],
      "execution_count": 0,
      "outputs": [
        {
          "output_type": "execute_result",
          "data": {
            "text/plain": [
              "0.49736789050424496"
            ]
          },
          "metadata": {
            "tags": []
          },
          "execution_count": 19
        }
      ]
    },
    {
      "cell_type": "code",
      "metadata": {
        "id": "XaMk-TAvu0y_",
        "colab_type": "code",
        "colab": {}
      },
      "source": [
        "pred_y=lgModel.predict(test_dta)"
      ],
      "execution_count": 0,
      "outputs": []
    },
    {
      "cell_type": "code",
      "metadata": {
        "id": "mW3e2gg7vENk",
        "colab_type": "code",
        "outputId": "c6f09771-8607-4874-8e03-8c7d6e193298",
        "colab": {
          "base_uri": "https://localhost:8080/",
          "height": 52
        }
      },
      "source": [
        "print(confusion_matrix(y_test,pred_y))"
      ],
      "execution_count": 0,
      "outputs": [
        {
          "output_type": "stream",
          "text": [
            "[[85050 87035]\n",
            " [ 2717  3762]]\n"
          ],
          "name": "stdout"
        }
      ]
    },
    {
      "cell_type": "code",
      "metadata": {
        "id": "oFjef55mvNWS",
        "colab_type": "code",
        "outputId": "fe237720-54ec-4e70-f62f-79b92d3f1f3e",
        "colab": {
          "base_uri": "https://localhost:8080/",
          "height": 173
        }
      },
      "source": [
        "print(classification_report(y_test,pred_y))"
      ],
      "execution_count": 0,
      "outputs": [
        {
          "output_type": "stream",
          "text": [
            "              precision    recall  f1-score   support\n",
            "\n",
            "           0       0.97      0.49      0.65    172085\n",
            "           1       0.04      0.58      0.08      6479\n",
            "\n",
            "    accuracy                           0.50    178564\n",
            "   macro avg       0.51      0.54      0.37    178564\n",
            "weighted avg       0.94      0.50      0.63    178564\n",
            "\n"
          ],
          "name": "stdout"
        }
      ]
    },
    {
      "cell_type": "code",
      "metadata": {
        "id": "sSGLXFdXvgK5",
        "colab_type": "code",
        "outputId": "4940d318-4180-4923-c53a-d5373bd55e08",
        "colab": {
          "base_uri": "https://localhost:8080/",
          "height": 35
        }
      },
      "source": [
        "0.66+0.08"
      ],
      "execution_count": 0,
      "outputs": [
        {
          "output_type": "execute_result",
          "data": {
            "text/plain": [
              "0.74"
            ]
          },
          "metadata": {
            "tags": []
          },
          "execution_count": 23
        }
      ]
    },
    {
      "cell_type": "code",
      "metadata": {
        "id": "n-f3OaUzvwUB",
        "colab_type": "code",
        "colab": {}
      },
      "source": [
        "from sklearn.metrics import f1_score,recall_score,precision_score"
      ],
      "execution_count": 0,
      "outputs": []
    },
    {
      "cell_type": "code",
      "metadata": {
        "id": "jh-5Tctev2t0",
        "colab_type": "code",
        "outputId": "21c6a44a-95ee-4ee2-88f5-6e55bfb0ec51",
        "colab": {
          "base_uri": "https://localhost:8080/",
          "height": 69
        }
      },
      "source": [
        "print(f1_score(y_test, pred_y, average='micro'))\n",
        "print(f1_score(y_test, pred_y, average='macro'))\n",
        "print(f1_score(y_test, pred_y, average='weighted'))"
      ],
      "execution_count": 0,
      "outputs": [
        {
          "output_type": "stream",
          "text": [
            "0.49736789050424496\n",
            "0.3659751600027177\n",
            "0.6336582685480865\n"
          ],
          "name": "stdout"
        }
      ]
    },
    {
      "cell_type": "code",
      "metadata": {
        "id": "xTED-iid1RUf",
        "colab_type": "code",
        "outputId": "b8127485-0c66-4e3f-d742-d98f9f7b0f81",
        "colab": {
          "base_uri": "https://localhost:8080/",
          "height": 35
        }
      },
      "source": [
        "recall_score(y_test,pred_y)"
      ],
      "execution_count": 0,
      "outputs": [
        {
          "output_type": "execute_result",
          "data": {
            "text/plain": [
              "0.5806451612903226"
            ]
          },
          "metadata": {
            "tags": []
          },
          "execution_count": 26
        }
      ]
    },
    {
      "cell_type": "code",
      "metadata": {
        "id": "EgJwl6hS27ay",
        "colab_type": "code",
        "outputId": "75b0b1bb-1f0a-4d83-aeb7-7db1a5d73d12",
        "colab": {
          "base_uri": "https://localhost:8080/",
          "height": 35
        }
      },
      "source": [
        "precision_score(y_test,pred_y)"
      ],
      "execution_count": 0,
      "outputs": [
        {
          "output_type": "execute_result",
          "data": {
            "text/plain": [
              "0.0414330869962664"
            ]
          },
          "metadata": {
            "tags": []
          },
          "execution_count": 27
        }
      ]
    },
    {
      "cell_type": "code",
      "metadata": {
        "id": "7HQjf6w-vbZA",
        "colab_type": "code",
        "outputId": "8c4169cb-ade3-4c42-db7a-eac4c5d1690a",
        "colab": {
          "base_uri": "https://localhost:8080/",
          "height": 35
        }
      },
      "source": [
        "f1_score(y_test,pred_y)"
      ],
      "execution_count": 0,
      "outputs": [
        {
          "output_type": "execute_result",
          "data": {
            "text/plain": [
              "0.07734693038365065"
            ]
          },
          "metadata": {
            "tags": []
          },
          "execution_count": 28
        }
      ]
    },
    {
      "cell_type": "markdown",
      "metadata": {
        "id": "5Y81ez4WpbTo",
        "colab_type": "text"
      },
      "source": [
        "logreg = LogisticRegression()\n",
        "rfe = RFE(logreg, 20)\n",
        "rfe = rfe.fit(os_data_X, os_data_y.values.ravel())\n",
        "print(rfe.support_)\n",
        "print(rfe.ranking_)"
      ]
    },
    {
      "cell_type": "code",
      "metadata": {
        "id": "Vr3fKNib7OyT",
        "colab_type": "code",
        "colab": {}
      },
      "source": [
        "filename = '/content/drive/My Drive/Colab Notebooks/LogisticRegSMOTE.sav'\n",
        "pickle.dump(lgModel, open(filename, 'wb'))"
      ],
      "execution_count": 0,
      "outputs": []
    }
  ]
}