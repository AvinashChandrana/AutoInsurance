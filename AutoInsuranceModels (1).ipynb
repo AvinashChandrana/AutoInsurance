{
  "nbformat": 4,
  "nbformat_minor": 0,
  "metadata": {
    "colab": {
      "name": "AutoInsuranceModels.ipynb",
      "provenance": [],
      "collapsed_sections": []
    },
    "kernelspec": {
      "name": "python3",
      "display_name": "Python 3"
    },
    "accelerator": "GPU"
  },
  "cells": [
    {
      "cell_type": "code",
      "metadata": {
        "id": "8RSBLnXeTzsb",
        "colab_type": "code",
        "colab": {}
      },
      "source": [
        "import pandas as pd\n",
        "import numpy as np\n",
        "import seaborn as sns\n",
        "from sklearn.linear_model import LogisticRegression\n",
        "from sklearn.model_selection import train_test_split\n",
        "from sklearn.preprocessing import StandardScaler\n",
        "from sklearn.decomposition import PCA\n",
        "import pickle"
      ],
      "execution_count": 0,
      "outputs": []
    },
    {
      "cell_type": "code",
      "metadata": {
        "id": "25IFcUh5V-4B",
        "colab_type": "code",
        "colab": {}
      },
      "source": [
        "df=pd.read_csv('/content/drive/My Drive/Colab Notebooks/auto.csv')"
      ],
      "execution_count": 0,
      "outputs": []
    },
    {
      "cell_type": "code",
      "metadata": {
        "id": "ZGUSLf-YXLYd",
        "colab_type": "code",
        "colab": {}
      },
      "source": [
        "df=df.replace(-1,np.nan)"
      ],
      "execution_count": 0,
      "outputs": []
    },
    {
      "cell_type": "code",
      "metadata": {
        "id": "K9B081Vs5cFA",
        "colab_type": "code",
        "colab": {}
      },
      "source": [
        "def handleMIssingVals(df2):\n",
        "  df2['ps_ind_02_cat'] = df2['ps_ind_02_cat'].fillna(1.0)\n",
        "  df2['ps_ind_04_cat']=df2['ps_ind_04_cat'].fillna(0.0)\n",
        "  df2['ps_ind_05_cat']=df2['ps_ind_05_cat'].fillna(7.0)\n",
        "  df2['ps_reg_03']=df2['ps_reg_03'].fillna(df2['ps_reg_03'].mean())\n",
        "  df2['ps_car_01_cat']=df2['ps_car_01_cat'].fillna(11.0)\n",
        "  df2['ps_car_05_cat']=df2['ps_car_05_cat'].fillna(2.0)\n",
        "  df2['ps_car_07_cat']=df2['ps_car_07_cat'].fillna(1.0)\n",
        "  df2['ps_car_09_cat']=df2['ps_car_09_cat'].fillna(2.0)\n",
        "  df2['ps_car_11']=df2['ps_car_11'].fillna(3.0)\n",
        "  df2['ps_car_12']=df2['ps_car_12'].fillna(df2['ps_car_12'].mean())\n",
        "  df2['ps_car_14']=df2['ps_car_14'].fillna(df2['ps_car_14'].mean())"
      ],
      "execution_count": 0,
      "outputs": []
    },
    {
      "cell_type": "code",
      "metadata": {
        "id": "j-0TEeNF607E",
        "colab_type": "code",
        "colab": {}
      },
      "source": [
        "handleMIssingVals(df)"
      ],
      "execution_count": 0,
      "outputs": []
    },
    {
      "cell_type": "code",
      "metadata": {
        "id": "La9FvJU2DBbR",
        "colab_type": "code",
        "colab": {}
      },
      "source": [
        "target=df['target']"
      ],
      "execution_count": 0,
      "outputs": []
    },
    {
      "cell_type": "code",
      "metadata": {
        "id": "4LVHpt-pDHFh",
        "colab_type": "code",
        "colab": {}
      },
      "source": [
        "drop_cols=['id', 'ps_car_13' ,'ps_car_14' , 'ps_reg_03' , 'ps_ind_10_bin' , 'ps_ind_11_bin' , 'ps_ind_13_bin' ,'ps_ind_14' , 'ps_car_03_cat','target']"
      ],
      "execution_count": 0,
      "outputs": []
    },
    {
      "cell_type": "code",
      "metadata": {
        "id": "pE1TJPzdct9B",
        "colab_type": "code",
        "colab": {}
      },
      "source": [
        "df.drop(drop_cols,axis=1,inplace=True)"
      ],
      "execution_count": 0,
      "outputs": []
    },
    {
      "cell_type": "code",
      "metadata": {
        "id": "fAsKu7ECDUwt",
        "colab_type": "code",
        "outputId": "22b0ef47-c9ef-4a6a-d0a2-451808ed8fdb",
        "colab": {
          "base_uri": "https://localhost:8080/",
          "height": 35
        }
      },
      "source": [
        "df.shape"
      ],
      "execution_count": 0,
      "outputs": [
        {
          "output_type": "execute_result",
          "data": {
            "text/plain": [
              "(595212, 49)"
            ]
          },
          "metadata": {
            "tags": []
          },
          "execution_count": 9
        }
      ]
    },
    {
      "cell_type": "code",
      "metadata": {
        "id": "sfxoDioTw67b",
        "colab_type": "code",
        "colab": {}
      },
      "source": [
        "rescale_cols=['ps_ind_01' ,'ps_ind_03','ps_ind_15','ps_car_11', 'ps_car_15', 'ps_calc_04', 'ps_calc_05','ps_calc_06','ps_calc_07','ps_calc_08','ps_calc_09','ps_calc_10','ps_calc_11','ps_calc_12','ps_calc_13','ps_calc_14']\n",
        "scaler=StandardScaler()\n",
        "scaled_Data=scaler.fit_transform(df[rescale_cols])"
      ],
      "execution_count": 0,
      "outputs": []
    },
    {
      "cell_type": "code",
      "metadata": {
        "id": "zGe1x7KAxeD6",
        "colab_type": "code",
        "outputId": "d7193ebb-27ae-497d-b9c8-cd93bf6b77a2",
        "colab": {
          "base_uri": "https://localhost:8080/",
          "height": 35
        }
      },
      "source": [
        "scaled_Data.shape"
      ],
      "execution_count": 0,
      "outputs": [
        {
          "output_type": "execute_result",
          "data": {
            "text/plain": [
              "(595212, 16)"
            ]
          },
          "metadata": {
            "tags": []
          },
          "execution_count": 11
        }
      ]
    },
    {
      "cell_type": "code",
      "metadata": {
        "id": "qVgdan18xtKK",
        "colab_type": "code",
        "colab": {}
      },
      "source": [
        "df_scaled=pd.DataFrame(scaled_Data,columns=rescale_cols)"
      ],
      "execution_count": 0,
      "outputs": []
    },
    {
      "cell_type": "code",
      "metadata": {
        "id": "dMTmTgio3Iks",
        "colab_type": "code",
        "outputId": "e8e422c3-d59a-4ab0-84bc-32177ea1d32e",
        "colab": {
          "base_uri": "https://localhost:8080/",
          "height": 35
        }
      },
      "source": [
        "df_scaled.shape"
      ],
      "execution_count": 0,
      "outputs": [
        {
          "output_type": "execute_result",
          "data": {
            "text/plain": [
              "(595212, 16)"
            ]
          },
          "metadata": {
            "tags": []
          },
          "execution_count": 13
        }
      ]
    },
    {
      "cell_type": "code",
      "metadata": {
        "id": "2Gn99-oNxO35",
        "colab_type": "code",
        "colab": {}
      },
      "source": [
        "df.drop(rescale_cols,axis=1,inplace=True)"
      ],
      "execution_count": 0,
      "outputs": []
    },
    {
      "cell_type": "code",
      "metadata": {
        "id": "WH0Lj3bsxPv2",
        "colab_type": "code",
        "colab": {}
      },
      "source": [
        "df=pd.concat([df,df_scaled],axis=1)"
      ],
      "execution_count": 0,
      "outputs": []
    },
    {
      "cell_type": "code",
      "metadata": {
        "id": "ZiIZlsktakvR",
        "colab_type": "code",
        "colab": {}
      },
      "source": [
        "cat_cols=df[['ps_ind_02_cat','ps_ind_04_cat','ps_ind_05_cat','ps_car_01_cat','ps_car_04_cat','ps_car_05_cat','ps_car_06_cat','ps_car_10_cat']]"
      ],
      "execution_count": 0,
      "outputs": []
    },
    {
      "cell_type": "code",
      "metadata": {
        "id": "ULosDwbwasaa",
        "colab_type": "code",
        "colab": {}
      },
      "source": [
        "for eachcol in cat_cols:\n",
        "  dummies=pd.get_dummies(cat_cols[eachcol],prefix_sep='_',prefix=eachcol)\n",
        "  df=df.join(dummies)\n",
        "data_vars=df.columns.values.tolist()\n",
        "to_keep=[i for i in data_vars if i not in cat_cols]\n",
        "df_final=df[to_keep]"
      ],
      "execution_count": 0,
      "outputs": []
    },
    {
      "cell_type": "code",
      "metadata": {
        "id": "iZ4h1aK4a3VS",
        "colab_type": "code",
        "colab": {}
      },
      "source": [
        "df=df_final"
      ],
      "execution_count": 0,
      "outputs": []
    },
    {
      "cell_type": "code",
      "metadata": {
        "id": "3qBVhlgwpKRQ",
        "colab_type": "code",
        "outputId": "8c13f6f0-b600-4cf5-f356-a33fc7b33a1a",
        "colab": {
          "base_uri": "https://localhost:8080/",
          "height": 35
        }
      },
      "source": [
        "len(df.columns)"
      ],
      "execution_count": 0,
      "outputs": [
        {
          "output_type": "execute_result",
          "data": {
            "text/plain": [
              "101"
            ]
          },
          "metadata": {
            "tags": []
          },
          "execution_count": 19
        }
      ]
    },
    {
      "cell_type": "code",
      "metadata": {
        "id": "t6q7kVizdleZ",
        "colab_type": "code",
        "colab": {}
      },
      "source": [
        "X_train,X_test,Y_train,Y_test=train_test_split(df,target,test_size=0.30,random_state=101)"
      ],
      "execution_count": 0,
      "outputs": []
    },
    {
      "cell_type": "code",
      "metadata": {
        "id": "B8NjmtLx-J17",
        "colab_type": "code",
        "colab": {}
      },
      "source": [
        "pca = PCA(n_components=10)\n",
        "#principalComponents = pca.fit_transform(df)"
      ],
      "execution_count": 0,
      "outputs": []
    },
    {
      "cell_type": "code",
      "metadata": {
        "id": "dcCUt4Qbyn-7",
        "colab_type": "code",
        "colab": {}
      },
      "source": [
        "train_pca=pca.fit(X_train)"
      ],
      "execution_count": 0,
      "outputs": []
    },
    {
      "cell_type": "code",
      "metadata": {
        "id": "1bNGWbqtywie",
        "colab_type": "code",
        "outputId": "005a5c91-f24c-4667-88f6-dfb17bdffeb4",
        "colab": {
          "base_uri": "https://localhost:8080/",
          "height": 35
        }
      },
      "source": [
        "pca.n_components_"
      ],
      "execution_count": 0,
      "outputs": [
        {
          "output_type": "execute_result",
          "data": {
            "text/plain": [
              "10"
            ]
          },
          "metadata": {
            "tags": []
          },
          "execution_count": 23
        }
      ]
    },
    {
      "cell_type": "code",
      "metadata": {
        "id": "QY16Y6HC-Ns8",
        "colab_type": "code",
        "outputId": "6ef09280-6c3a-4231-a5e5-864a8ec2e56c",
        "colab": {
          "base_uri": "https://localhost:8080/",
          "height": 69
        }
      },
      "source": [
        "pca.explained_variance_"
      ],
      "execution_count": 0,
      "outputs": [
        {
          "output_type": "execute_result",
          "data": {
            "text/plain": [
              "array([1.09004284e+03, 1.47130075e+00, 1.22521596e+00, 1.15666483e+00,\n",
              "       1.01079170e+00, 1.00622713e+00, 1.00456796e+00, 1.00302770e+00,\n",
              "       1.00166828e+00, 9.99537437e-01])"
            ]
          },
          "metadata": {
            "tags": []
          },
          "execution_count": 24
        }
      ]
    },
    {
      "cell_type": "code",
      "metadata": {
        "id": "QpW3VVlxy7v4",
        "colab_type": "code",
        "colab": {}
      },
      "source": [
        "train_dta=pca.transform(X_train)\n",
        "test_dta=pca.transform(X_test)"
      ],
      "execution_count": 0,
      "outputs": []
    },
    {
      "cell_type": "code",
      "metadata": {
        "id": "O0VJJIBObmVQ",
        "colab_type": "code",
        "outputId": "7ed4f3c9-35f2-479e-a60a-fa40b5b3c7a8",
        "colab": {
          "base_uri": "https://localhost:8080/",
          "height": 35
        }
      },
      "source": [
        "train_dta.shape"
      ],
      "execution_count": 0,
      "outputs": [
        {
          "output_type": "execute_result",
          "data": {
            "text/plain": [
              "(416648, 10)"
            ]
          },
          "metadata": {
            "tags": []
          },
          "execution_count": 26
        }
      ]
    },
    {
      "cell_type": "code",
      "metadata": {
        "id": "EXv_dsGQ-N4o",
        "colab_type": "code",
        "colab": {}
      },
      "source": [
        "principalDF=pd.DataFrame(train_dta,columns=['Principal Component1','Principal Component2','Principal Component3','Principal Component4','Principal Component5','Principal Component6','Principal Component7','Principal Component8','Principal Component9','Principal Component10'])"
      ],
      "execution_count": 0,
      "outputs": []
    },
    {
      "cell_type": "code",
      "metadata": {
        "id": "5DeeBvpWvT1q",
        "colab_type": "code",
        "colab": {}
      },
      "source": [
        "finalDF=pd.concat([principalDF,target],axis=1)"
      ],
      "execution_count": 0,
      "outputs": []
    },
    {
      "cell_type": "code",
      "metadata": {
        "id": "oX8XMLdivjX1",
        "colab_type": "code",
        "colab": {}
      },
      "source": [
        "finalDF.drop('target',axis=1,inplace=True)"
      ],
      "execution_count": 0,
      "outputs": []
    },
    {
      "cell_type": "code",
      "metadata": {
        "id": "AkkPvswDeQAB",
        "colab_type": "code",
        "colab": {}
      },
      "source": [
        "lgModel=LogisticRegression()"
      ],
      "execution_count": 0,
      "outputs": []
    },
    {
      "cell_type": "code",
      "metadata": {
        "id": "qHCcFuxSeZba",
        "colab_type": "code",
        "outputId": "3af0ab76-d3bb-4c9e-f2ee-29700571102c",
        "colab": {
          "base_uri": "https://localhost:8080/",
          "height": 104
        }
      },
      "source": [
        "lgModel.fit(train_dta,Y_train)"
      ],
      "execution_count": 0,
      "outputs": [
        {
          "output_type": "execute_result",
          "data": {
            "text/plain": [
              "LogisticRegression(C=1.0, class_weight=None, dual=False, fit_intercept=True,\n",
              "                   intercept_scaling=1, l1_ratio=None, max_iter=100,\n",
              "                   multi_class='auto', n_jobs=None, penalty='l2',\n",
              "                   random_state=None, solver='lbfgs', tol=0.0001, verbose=0,\n",
              "                   warm_start=False)"
            ]
          },
          "metadata": {
            "tags": []
          },
          "execution_count": 31
        }
      ]
    },
    {
      "cell_type": "code",
      "metadata": {
        "id": "UHkshgySwVvO",
        "colab_type": "code",
        "colab": {}
      },
      "source": [
        "filename = '/content/drive/My Drive/Colab Notebooks/Logisticmodel.sav'\n",
        "pickle.dump(lgModel, open(filename, 'wb'))"
      ],
      "execution_count": 0,
      "outputs": []
    },
    {
      "cell_type": "code",
      "metadata": {
        "id": "Uo_TLVsPmkPj",
        "colab_type": "code",
        "colab": {}
      },
      "source": [
        "type(train_dta),type(test_dta)"
      ],
      "execution_count": 0,
      "outputs": []
    },
    {
      "cell_type": "code",
      "metadata": {
        "id": "29iqTWLemx6z",
        "colab_type": "code",
        "colab": {}
      },
      "source": [
        "test_dta.shape"
      ],
      "execution_count": 0,
      "outputs": []
    },
    {
      "cell_type": "code",
      "metadata": {
        "id": "_xE3G6lmweLs",
        "colab_type": "code",
        "colab": {}
      },
      "source": [
        "pred_y=lgModel.predict(test_dta)"
      ],
      "execution_count": 0,
      "outputs": []
    },
    {
      "cell_type": "code",
      "metadata": {
        "id": "wkf5dea9Ae01",
        "colab_type": "code",
        "outputId": "0e24d8a0-5245-47a5-8e16-9052268c541f",
        "colab": {
          "base_uri": "https://localhost:8080/",
          "height": 35
        }
      },
      "source": [
        "type(pred_y.shape),type(Y_test.shape)"
      ],
      "execution_count": 0,
      "outputs": [
        {
          "output_type": "execute_result",
          "data": {
            "text/plain": [
              "(tuple, tuple)"
            ]
          },
          "metadata": {
            "tags": []
          },
          "execution_count": 35
        }
      ]
    },
    {
      "cell_type": "code",
      "metadata": {
        "id": "rupHO0E7zyVL",
        "colab_type": "code",
        "outputId": "a006d31e-5e18-48f0-d910-9bcefcd671b9",
        "colab": {
          "base_uri": "https://localhost:8080/",
          "height": 35
        }
      },
      "source": [
        "lgModel.score(test_dta,Y_test)"
      ],
      "execution_count": 0,
      "outputs": [
        {
          "output_type": "execute_result",
          "data": {
            "text/plain": [
              "0.963525682668399"
            ]
          },
          "metadata": {
            "tags": []
          },
          "execution_count": 36
        }
      ]
    },
    {
      "cell_type": "code",
      "metadata": {
        "id": "tj78sDEleWpd",
        "colab_type": "code",
        "colab": {}
      },
      "source": [
        "from sklearn.metrics import confusion_matrix,classification_report"
      ],
      "execution_count": 0,
      "outputs": []
    },
    {
      "cell_type": "code",
      "metadata": {
        "id": "yV9lkTUA-POl",
        "colab_type": "code",
        "outputId": "cfd66e69-a850-4155-9dd4-691bd32f58f3",
        "colab": {
          "base_uri": "https://localhost:8080/",
          "height": 52
        }
      },
      "source": [
        "print(confusion_matrix(Y_test,pred_y))"
      ],
      "execution_count": 0,
      "outputs": [
        {
          "output_type": "stream",
          "text": [
            "[[172051      0]\n",
            " [  6513      0]]\n"
          ],
          "name": "stdout"
        }
      ]
    },
    {
      "cell_type": "code",
      "metadata": {
        "id": "s6heHK2mv0Xe",
        "colab_type": "code",
        "outputId": "860c9fb4-5742-4d5e-bb9a-7365e78f269f",
        "colab": {
          "base_uri": "https://localhost:8080/",
          "height": 228
        }
      },
      "source": [
        "print(classification_report(Y_test,pred_y))"
      ],
      "execution_count": 0,
      "outputs": [
        {
          "output_type": "stream",
          "text": [
            "              precision    recall  f1-score   support\n",
            "\n",
            "           0       0.96      1.00      0.98    172051\n",
            "           1       0.00      0.00      0.00      6513\n",
            "\n",
            "    accuracy                           0.96    178564\n",
            "   macro avg       0.48      0.50      0.49    178564\n",
            "weighted avg       0.93      0.96      0.95    178564\n",
            "\n"
          ],
          "name": "stdout"
        },
        {
          "output_type": "stream",
          "text": [
            "/usr/local/lib/python3.6/dist-packages/sklearn/metrics/_classification.py:1272: UndefinedMetricWarning: Precision and F-score are ill-defined and being set to 0.0 in labels with no predicted samples. Use `zero_division` parameter to control this behavior.\n",
            "  _warn_prf(average, modifier, msg_start, len(result))\n"
          ],
          "name": "stderr"
        }
      ]
    },
    {
      "cell_type": "code",
      "metadata": {
        "id": "lU1YCl-PzHnj",
        "colab_type": "code",
        "colab": {}
      },
      "source": [
        "from sklearn.metrics import f1_score,recall_score,precision_score"
      ],
      "execution_count": 0,
      "outputs": []
    },
    {
      "cell_type": "code",
      "metadata": {
        "id": "Mg0lKD17zA7Q",
        "colab_type": "code",
        "outputId": "b2c0ade6-dd16-45e3-d681-d3a0f4ca2b61",
        "colab": {
          "base_uri": "https://localhost:8080/",
          "height": 69
        }
      },
      "source": [
        "print(f1_score(Y_test, pred_y, average='micro'))\n",
        "print(f1_score(Y_test, pred_y, average='macro'))\n",
        "print(f1_score(Y_test, pred_y, average='weighted'))"
      ],
      "execution_count": 0,
      "outputs": [
        {
          "output_type": "stream",
          "text": [
            "0.963525682668399\n",
            "0.49071203456783086\n",
            "0.9456272962011365\n"
          ],
          "name": "stdout"
        }
      ]
    },
    {
      "cell_type": "code",
      "metadata": {
        "id": "Ca8zhvp7vUQi",
        "colab_type": "code",
        "outputId": "c0e39e90-1ed2-43be-b9cf-34b3d3260600",
        "colab": {
          "base_uri": "https://localhost:8080/",
          "height": 35
        }
      },
      "source": [
        "f1_score(Y_test,pred_y)"
      ],
      "execution_count": 0,
      "outputs": [
        {
          "output_type": "execute_result",
          "data": {
            "text/plain": [
              "0.0"
            ]
          },
          "metadata": {
            "tags": []
          },
          "execution_count": 44
        }
      ]
    },
    {
      "cell_type": "code",
      "metadata": {
        "id": "aArOCBjH1Fw7",
        "colab_type": "code",
        "outputId": "7100eabc-b3d2-433d-aa46-4742af95e6bd",
        "colab": {
          "base_uri": "https://localhost:8080/",
          "height": 35
        }
      },
      "source": [
        "recall_score(Y_test,pred_y)"
      ],
      "execution_count": 0,
      "outputs": [
        {
          "output_type": "execute_result",
          "data": {
            "text/plain": [
              "0.0"
            ]
          },
          "metadata": {
            "tags": []
          },
          "execution_count": 45
        }
      ]
    },
    {
      "cell_type": "code",
      "metadata": {
        "id": "soOw9wiL21JL",
        "colab_type": "code",
        "outputId": "f39d0dfa-e1fb-4234-9e30-bf754f87107b",
        "colab": {
          "base_uri": "https://localhost:8080/",
          "height": 89
        }
      },
      "source": [
        "pred_score=precision_score(Y_test,pred_y)\n",
        "pred_score"
      ],
      "execution_count": 0,
      "outputs": [
        {
          "output_type": "stream",
          "text": [
            "/usr/local/lib/python3.6/dist-packages/sklearn/metrics/_classification.py:1272: UndefinedMetricWarning: Precision is ill-defined and being set to 0.0 due to no predicted samples. Use `zero_division` parameter to control this behavior.\n",
            "  _warn_prf(average, modifier, msg_start, len(result))\n"
          ],
          "name": "stderr"
        },
        {
          "output_type": "execute_result",
          "data": {
            "text/plain": [
              "0.0"
            ]
          },
          "metadata": {
            "tags": []
          },
          "execution_count": 46
        }
      ]
    },
    {
      "cell_type": "code",
      "metadata": {
        "id": "apFSdgL414T2",
        "colab_type": "code",
        "colab": {}
      },
      "source": [
        "probs=lgModel.predict_proba(test_dta)"
      ],
      "execution_count": 0,
      "outputs": []
    },
    {
      "cell_type": "code",
      "metadata": {
        "id": "SLvG4E1g3YGK",
        "colab_type": "code",
        "colab": {}
      },
      "source": [
        "class_1=probs[:,1]\n"
      ],
      "execution_count": 0,
      "outputs": []
    },
    {
      "cell_type": "code",
      "metadata": {
        "id": "JOUz1vbv3fZC",
        "colab_type": "code",
        "colab": {}
      },
      "source": [
        "lgModel_class1=class_1 > 0.2\n",
        "lgModel_class1 = lgModel_class1 * 1"
      ],
      "execution_count": 0,
      "outputs": []
    },
    {
      "cell_type": "code",
      "metadata": {
        "id": "kAC4R8ZQ4Mhh",
        "colab_type": "code",
        "outputId": "46eb57ed-0c5b-4708-c8ed-b3f4057c164d",
        "colab": {
          "base_uri": "https://localhost:8080/",
          "height": 35
        }
      },
      "source": [
        "np.unique(lgModel_class1,return_counts=True)"
      ],
      "execution_count": 0,
      "outputs": [
        {
          "output_type": "execute_result",
          "data": {
            "text/plain": [
              "(array([0]), array([178564]))"
            ]
          },
          "metadata": {
            "tags": []
          },
          "execution_count": 75
        }
      ]
    },
    {
      "cell_type": "code",
      "metadata": {
        "id": "7ddytEKS6CKC",
        "colab_type": "code",
        "colab": {}
      },
      "source": [
        "class_0=probs[:,0]"
      ],
      "execution_count": 0,
      "outputs": []
    },
    {
      "cell_type": "code",
      "metadata": {
        "id": "BZkCKSdM6D2_",
        "colab_type": "code",
        "outputId": "850ae0cf-2cd6-47d5-a9ce-6f3c5f0063e7",
        "colab": {
          "base_uri": "https://localhost:8080/",
          "height": 35
        }
      },
      "source": [
        "lgModel_class0=class_1 > 0.2\n",
        "lgModel_class0 = lgModel_class1 * 0\n",
        "np.unique(lgModel_class0,return_counts=True)"
      ],
      "execution_count": 0,
      "outputs": [
        {
          "output_type": "execute_result",
          "data": {
            "text/plain": [
              "(array([0]), array([178564]))"
            ]
          },
          "metadata": {
            "tags": []
          },
          "execution_count": 83
        }
      ]
    }
  ]
}