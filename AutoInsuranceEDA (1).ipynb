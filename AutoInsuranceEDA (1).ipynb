{
  "nbformat": 4,
  "nbformat_minor": 0,
  "metadata": {
    "colab": {
      "name": "AutoInsuranceEDA.ipynb",
      "provenance": [],
      "collapsed_sections": []
    },
    "kernelspec": {
      "name": "python3",
      "display_name": "Python 3"
    },
    "accelerator": "GPU"
  },
  "cells": [
    {
      "cell_type": "code",
      "metadata": {
        "id": "IBvo2WckIWp2",
        "colab_type": "code",
        "colab": {}
      },
      "source": [
        "import pandas as pd\n",
        "import numpy as np\n",
        "import seaborn as sns\n",
        "import matplotlib.pyplot as plt"
      ],
      "execution_count": 0,
      "outputs": []
    },
    {
      "cell_type": "code",
      "metadata": {
        "id": "jqGm9lpHIlkX",
        "colab_type": "code",
        "colab": {}
      },
      "source": [
        "df=pd.read_csv('/content/drive/My Drive/Colab Notebooks/auto.csv')"
      ],
      "execution_count": 0,
      "outputs": []
    },
    {
      "cell_type": "code",
      "metadata": {
        "id": "Z9VWUIR9LRFi",
        "colab_type": "code",
        "colab": {}
      },
      "source": [
        "df=df.replace(-1,np.nan)"
      ],
      "execution_count": 0,
      "outputs": []
    },
    {
      "cell_type": "markdown",
      "metadata": {
        "id": "p46TWFjPpKs4",
        "colab_type": "text"
      },
      "source": [
        "List down all categorical and continuous variables\n",
        "Fix Missing data in both types of variables. \n",
        "Uni variate visualization\n",
        "Remove Outliers\n",
        "Bi Variate Visualization\n",
        "Inferences\n",
        "Imbalance data"
      ]
    },
    {
      "cell_type": "code",
      "metadata": {
        "id": "WO6Y4_KmDFw5",
        "colab_type": "code",
        "outputId": "736f503f-b678-4ec9-80a7-0f284ca287ff",
        "colab": {
          "base_uri": "https://localhost:8080/",
          "height": 35
        }
      },
      "source": [
        "df2 = df[[column for column in df if df[column].count() / len(df) >= 0.4]]\n",
        "for c in df.columns:\n",
        "    if c not in df2.columns:\n",
        "        print(c, end=\", \")\n"
      ],
      "execution_count": 0,
      "outputs": [
        {
          "output_type": "stream",
          "text": [
            "ps_car_03_cat, "
          ],
          "name": "stdout"
        }
      ]
    },
    {
      "cell_type": "code",
      "metadata": {
        "id": "4i8a7LT6XltS",
        "colab_type": "code",
        "outputId": "9b5367bb-efd6-41bd-9546-b0a9c9b8dbea",
        "colab": {
          "base_uri": "https://localhost:8080/",
          "height": 35
        }
      },
      "source": [
        "df['ps_ind_02_cat'].count()-len(df)"
      ],
      "execution_count": 0,
      "outputs": [
        {
          "output_type": "execute_result",
          "data": {
            "text/plain": [
              "-216"
            ]
          },
          "metadata": {
            "tags": []
          },
          "execution_count": 7
        }
      ]
    },
    {
      "cell_type": "code",
      "metadata": {
        "id": "pPzT67EUKhlT",
        "colab_type": "code",
        "colab": {}
      },
      "source": [
        "## DROPPING columns : Id and ps_car_03_cat\n",
        "df.drop(['id','ps_car_03_cat'],inplace=True,axis=1)"
      ],
      "execution_count": 0,
      "outputs": []
    },
    {
      "cell_type": "code",
      "metadata": {
        "id": "fF0CKoICLKFZ",
        "colab_type": "code",
        "outputId": "eebf5224-416a-41da-f0a1-7cf18a6e4376",
        "colab": {
          "base_uri": "https://localhost:8080/",
          "height": 208
        }
      },
      "source": [
        "## Filling missing values\n",
        "## classify categorical and numerical columns\n",
        "## Univariate visualizations\n",
        "## BiVavariate Visualizations\n",
        "missing_value_cols=[]\n",
        "for c in df2.columns:\n",
        "  if (df2[c].count() != len(df)):\n",
        "    missing_value_cols.append(c)\n",
        "missing_value_cols"
      ],
      "execution_count": 0,
      "outputs": [
        {
          "output_type": "execute_result",
          "data": {
            "text/plain": [
              "['ps_ind_02_cat',\n",
              " 'ps_ind_04_cat',\n",
              " 'ps_ind_05_cat',\n",
              " 'ps_reg_03',\n",
              " 'ps_car_01_cat',\n",
              " 'ps_car_05_cat',\n",
              " 'ps_car_07_cat',\n",
              " 'ps_car_09_cat',\n",
              " 'ps_car_11',\n",
              " 'ps_car_12',\n",
              " 'ps_car_14']"
            ]
          },
          "metadata": {
            "tags": []
          },
          "execution_count": 9
        }
      ]
    },
    {
      "cell_type": "code",
      "metadata": {
        "id": "CpmApEL5022S",
        "colab_type": "code",
        "outputId": "d7cc69c6-864f-41dd-efae-85918fed067b",
        "colab": {
          "base_uri": "https://localhost:8080/",
          "height": 1000
        }
      },
      "source": [
        "for col in missing_value_cols:\n",
        "  print(col)\n",
        "  print('\\n')\n",
        "  print(df2[col].value_counts())\n",
        "  print(df2[col].isnull().sum())\n",
        "  print('missing values percentage',(df2[col].isnull().sum()/len(df)) * 100)\n",
        "  print('*********')"
      ],
      "execution_count": 0,
      "outputs": [
        {
          "output_type": "stream",
          "text": [
            "ps_ind_02_cat\n",
            "\n",
            "\n",
            "1.0    431859\n",
            "2.0    123573\n",
            "3.0     28186\n",
            "4.0     11378\n",
            "Name: ps_ind_02_cat, dtype: int64\n",
            "216\n",
            "missing values percentage 0.036289590935666624\n",
            "*********\n",
            "ps_ind_04_cat\n",
            "\n",
            "\n",
            "0.0    346965\n",
            "1.0    248164\n",
            "Name: ps_ind_04_cat, dtype: int64\n",
            "83\n",
            "missing values percentage 0.013944611331760785\n",
            "*********\n",
            "ps_ind_05_cat\n",
            "\n",
            "\n",
            "0.0    528009\n",
            "6.0     20662\n",
            "4.0     18344\n",
            "1.0      8322\n",
            "3.0      8233\n",
            "2.0      4184\n",
            "5.0      1649\n",
            "Name: ps_ind_05_cat, dtype: int64\n",
            "5809\n",
            "missing values percentage 0.975954785857812\n",
            "*********\n",
            "ps_reg_03\n",
            "\n",
            "\n",
            "0.633936    664\n",
            "0.602599    637\n",
            "0.704894    627\n",
            "0.587899    616\n",
            "0.680074    598\n",
            "           ... \n",
            "0.282843      1\n",
            "1.967073      1\n",
            "1.676492      1\n",
            "1.715736      1\n",
            "1.578369      1\n",
            "Name: ps_reg_03, Length: 5012, dtype: int64\n",
            "107772\n",
            "missing values percentage 18.106489788512327\n",
            "*********\n",
            "ps_car_01_cat\n",
            "\n",
            "\n",
            "11.0    207573\n",
            "7.0     179247\n",
            "6.0      62393\n",
            "10.0     50087\n",
            "4.0      26174\n",
            "9.0      20323\n",
            "5.0      18142\n",
            "8.0      15093\n",
            "3.0       6658\n",
            "0.0       5904\n",
            "2.0       2144\n",
            "1.0       1367\n",
            "Name: ps_car_01_cat, dtype: int64\n",
            "107\n",
            "missing values percentage 0.01797678810239041\n",
            "*********\n",
            "ps_car_05_cat\n",
            "\n",
            "\n",
            "1.0    172667\n",
            "0.0    155994\n",
            "Name: ps_car_05_cat, dtype: int64\n",
            "266551\n",
            "missing values percentage 44.78253126617071\n",
            "*********\n",
            "ps_car_07_cat\n",
            "\n",
            "\n",
            "1.0    553148\n",
            "0.0     30575\n",
            "Name: ps_car_07_cat, dtype: int64\n",
            "11489\n",
            "missing values percentage 1.9302366215734896\n",
            "*********\n",
            "ps_car_09_cat\n",
            "\n",
            "\n",
            "2.0    353482\n",
            "0.0    194518\n",
            "1.0     29080\n",
            "3.0     14756\n",
            "4.0      2807\n",
            "Name: ps_car_09_cat, dtype: int64\n",
            "569\n",
            "missing values percentage 0.09559619093701067\n",
            "*********\n",
            "ps_car_11\n",
            "\n",
            "\n",
            "3.0    318919\n",
            "2.0    189353\n",
            "1.0     60952\n",
            "0.0     25983\n",
            "Name: ps_car_11, dtype: int64\n",
            "5\n",
            "missing values percentage 0.0008400368272145051\n",
            "*********\n",
            "ps_car_12\n",
            "\n",
            "\n",
            "0.316228    170579\n",
            "0.400000    111873\n",
            "0.374166     98598\n",
            "0.447214     49318\n",
            "0.424264     49293\n",
            "             ...  \n",
            "0.395601         1\n",
            "0.465940         1\n",
            "0.479062         1\n",
            "0.480000         1\n",
            "0.581206         1\n",
            "Name: ps_car_12, Length: 183, dtype: int64\n",
            "1\n",
            "missing values percentage 0.000168007365442901\n",
            "*********\n",
            "ps_car_14\n",
            "\n",
            "\n",
            "0.361525    17696\n",
            "0.358329    15523\n",
            "0.361939    11885\n",
            "0.368782    11626\n",
            "0.397492     9679\n",
            "            ...  \n",
            "0.411461        1\n",
            "0.414608        1\n",
            "0.423320        1\n",
            "0.302490        1\n",
            "0.442154        1\n",
            "Name: ps_car_14, Length: 849, dtype: int64\n",
            "42620\n",
            "missing values percentage 7.160473915176441\n",
            "*********\n"
          ],
          "name": "stdout"
        }
      ]
    },
    {
      "cell_type": "code",
      "metadata": {
        "id": "POEeMlymUQRy",
        "colab_type": "code",
        "colab": {}
      },
      "source": [
        "# There are total 12 features which has null values\n",
        "#"
      ],
      "execution_count": 0,
      "outputs": []
    },
    {
      "cell_type": "code",
      "metadata": {
        "id": "e2djHco8VQNM",
        "colab_type": "code",
        "outputId": "e03971c7-a0cf-4b87-fe0d-d40456fa0de6",
        "colab": {
          "base_uri": "https://localhost:8080/",
          "height": 139
        }
      },
      "source": [
        "# fill not available with 1.0\n",
        "df2['ps_ind_02_cat'] = df2['ps_ind_02_cat'].fillna(1.0)\n",
        "\n",
        "print(df2['ps_ind_02_cat'].isnull().sum())"
      ],
      "execution_count": 0,
      "outputs": [
        {
          "output_type": "stream",
          "text": [
            "0\n"
          ],
          "name": "stdout"
        },
        {
          "output_type": "stream",
          "text": [
            "/usr/local/lib/python3.6/dist-packages/ipykernel_launcher.py:1: SettingWithCopyWarning: \n",
            "A value is trying to be set on a copy of a slice from a DataFrame.\n",
            "Try using .loc[row_indexer,col_indexer] = value instead\n",
            "\n",
            "See the caveats in the documentation: http://pandas.pydata.org/pandas-docs/stable/user_guide/indexing.html#returning-a-view-versus-a-copy\n",
            "  \"\"\"Entry point for launching an IPython kernel.\n"
          ],
          "name": "stderr"
        }
      ]
    },
    {
      "cell_type": "code",
      "metadata": {
        "id": "kfsW8I-zW2mR",
        "colab_type": "code",
        "outputId": "915ab4b3-2f1e-4ebc-e279-b9e949a1b6b0",
        "colab": {
          "base_uri": "https://localhost:8080/",
          "height": 191
        }
      },
      "source": [
        "print(df2['ps_ind_04_cat'].value_counts())\n",
        "\n",
        "## FOr this column can add the mode to missing value. Add 0.0 to missing values\n",
        "df2['ps_ind_04_cat']=df2['ps_ind_04_cat'].fillna(0.0)\n",
        "print(df2['ps_ind_04_cat'].isnull().sum())"
      ],
      "execution_count": 0,
      "outputs": [
        {
          "output_type": "stream",
          "text": [
            "0.0    346965\n",
            "1.0    248164\n",
            "Name: ps_ind_04_cat, dtype: int64\n",
            "0\n"
          ],
          "name": "stdout"
        },
        {
          "output_type": "stream",
          "text": [
            "/usr/local/lib/python3.6/dist-packages/ipykernel_launcher.py:4: SettingWithCopyWarning: \n",
            "A value is trying to be set on a copy of a slice from a DataFrame.\n",
            "Try using .loc[row_indexer,col_indexer] = value instead\n",
            "\n",
            "See the caveats in the documentation: http://pandas.pydata.org/pandas-docs/stable/user_guide/indexing.html#returning-a-view-versus-a-copy\n",
            "  after removing the cwd from sys.path.\n"
          ],
          "name": "stderr"
        }
      ]
    },
    {
      "cell_type": "code",
      "metadata": {
        "id": "nnDN9MqiuMzI",
        "colab_type": "code",
        "outputId": "2afc912a-a607-4809-b803-6329c63a9197",
        "colab": {
          "base_uri": "https://localhost:8080/",
          "height": 295
        }
      },
      "source": [
        "# COnsiderable missing values \n",
        "# better to add as missing category\n",
        "df2['ps_ind_05_cat']=df2['ps_ind_05_cat'].fillna(7.0)\n",
        "print(df2['ps_ind_05_cat'].isnull().sum())\n",
        "print(df2['ps_ind_05_cat'].value_counts())"
      ],
      "execution_count": 0,
      "outputs": [
        {
          "output_type": "stream",
          "text": [
            "0\n",
            "0.0    528009\n",
            "6.0     20662\n",
            "4.0     18344\n",
            "1.0      8322\n",
            "3.0      8233\n",
            "7.0      5809\n",
            "2.0      4184\n",
            "5.0      1649\n",
            "Name: ps_ind_05_cat, dtype: int64\n"
          ],
          "name": "stdout"
        },
        {
          "output_type": "stream",
          "text": [
            "/usr/local/lib/python3.6/dist-packages/ipykernel_launcher.py:1: SettingWithCopyWarning: \n",
            "A value is trying to be set on a copy of a slice from a DataFrame.\n",
            "Try using .loc[row_indexer,col_indexer] = value instead\n",
            "\n",
            "See the caveats in the documentation: http://pandas.pydata.org/pandas-docs/stable/user_guide/indexing.html#returning-a-view-versus-a-copy\n",
            "  \"\"\"Entry point for launching an IPython kernel.\n"
          ],
          "name": "stderr"
        }
      ]
    },
    {
      "cell_type": "code",
      "metadata": {
        "id": "Ug4im3O4HGe_",
        "colab_type": "code",
        "outputId": "40f14f0a-0f4b-42c2-9dad-ae9f548f4452",
        "colab": {
          "base_uri": "https://localhost:8080/",
          "height": 173
        }
      },
      "source": [
        "#df2['ps_reg_03']=df2['ps_reg_03'].fillna(df2['ps_reg_03'].mean())\n",
        "df2['ps_reg_03'].describe()"
      ],
      "execution_count": 0,
      "outputs": [
        {
          "output_type": "execute_result",
          "data": {
            "text/plain": [
              "count    487440.000000\n",
              "mean          0.894047\n",
              "std           0.345413\n",
              "min           0.061237\n",
              "25%           0.633443\n",
              "50%           0.801561\n",
              "75%           1.083974\n",
              "max           4.037945\n",
              "Name: ps_reg_03, dtype: float64"
            ]
          },
          "metadata": {
            "tags": []
          },
          "execution_count": 15
        }
      ]
    },
    {
      "cell_type": "code",
      "metadata": {
        "id": "g0U8RenziBeD",
        "colab_type": "code",
        "outputId": "04c6fb9c-09f0-4216-9f48-9369ba761461",
        "colab": {
          "base_uri": "https://localhost:8080/",
          "height": 121
        }
      },
      "source": [
        "df2['ps_reg_03']=df2['ps_reg_03'].fillna(df2['ps_reg_03'].mean())"
      ],
      "execution_count": 0,
      "outputs": [
        {
          "output_type": "stream",
          "text": [
            "/usr/local/lib/python3.6/dist-packages/ipykernel_launcher.py:1: SettingWithCopyWarning: \n",
            "A value is trying to be set on a copy of a slice from a DataFrame.\n",
            "Try using .loc[row_indexer,col_indexer] = value instead\n",
            "\n",
            "See the caveats in the documentation: http://pandas.pydata.org/pandas-docs/stable/user_guide/indexing.html#returning-a-view-versus-a-copy\n",
            "  \"\"\"Entry point for launching an IPython kernel.\n"
          ],
          "name": "stderr"
        }
      ]
    },
    {
      "cell_type": "code",
      "metadata": {
        "id": "GyOATlVAiPL_",
        "colab_type": "code",
        "outputId": "38f10956-5987-41ec-b7c1-59047f8d1817",
        "colab": {
          "base_uri": "https://localhost:8080/",
          "height": 173
        }
      },
      "source": [
        "df2['ps_reg_03'].describe()"
      ],
      "execution_count": 0,
      "outputs": [
        {
          "output_type": "execute_result",
          "data": {
            "text/plain": [
              "count    595212.000000\n",
              "mean          0.894047\n",
              "std           0.312581\n",
              "min           0.061237\n",
              "25%           0.666615\n",
              "50%           0.894047\n",
              "75%           1.000000\n",
              "max           4.037945\n",
              "Name: ps_reg_03, dtype: float64"
            ]
          },
          "metadata": {
            "tags": []
          },
          "execution_count": 17
        }
      ]
    },
    {
      "cell_type": "code",
      "metadata": {
        "id": "CSw4fXL5ihSA",
        "colab_type": "code",
        "outputId": "99c166ff-5947-4d07-a193-05aefe8591ae",
        "colab": {
          "base_uri": "https://localhost:8080/",
          "height": 121
        }
      },
      "source": [
        "df2['ps_car_01_cat']=df2['ps_car_01_cat'].fillna(11.0)"
      ],
      "execution_count": 0,
      "outputs": [
        {
          "output_type": "stream",
          "text": [
            "/usr/local/lib/python3.6/dist-packages/ipykernel_launcher.py:1: SettingWithCopyWarning: \n",
            "A value is trying to be set on a copy of a slice from a DataFrame.\n",
            "Try using .loc[row_indexer,col_indexer] = value instead\n",
            "\n",
            "See the caveats in the documentation: http://pandas.pydata.org/pandas-docs/stable/user_guide/indexing.html#returning-a-view-versus-a-copy\n",
            "  \"\"\"Entry point for launching an IPython kernel.\n"
          ],
          "name": "stderr"
        }
      ]
    },
    {
      "cell_type": "code",
      "metadata": {
        "id": "BhZQXNmqjOXm",
        "colab_type": "code",
        "outputId": "5c7d70ad-c4a2-4122-e3b4-f5c8e93ba187",
        "colab": {
          "base_uri": "https://localhost:8080/",
          "height": 121
        }
      },
      "source": [
        "df2['ps_car_05_cat']=df2['ps_car_05_cat'].fillna(2.0) # Added as separate category as 44% of missing data is present"
      ],
      "execution_count": 0,
      "outputs": [
        {
          "output_type": "stream",
          "text": [
            "/usr/local/lib/python3.6/dist-packages/ipykernel_launcher.py:1: SettingWithCopyWarning: \n",
            "A value is trying to be set on a copy of a slice from a DataFrame.\n",
            "Try using .loc[row_indexer,col_indexer] = value instead\n",
            "\n",
            "See the caveats in the documentation: http://pandas.pydata.org/pandas-docs/stable/user_guide/indexing.html#returning-a-view-versus-a-copy\n",
            "  \"\"\"Entry point for launching an IPython kernel.\n"
          ],
          "name": "stderr"
        }
      ]
    },
    {
      "cell_type": "code",
      "metadata": {
        "id": "c879QjhmkM4_",
        "colab_type": "code",
        "outputId": "3e5a15dd-3c41-400c-82f3-bff42a92b064",
        "colab": {
          "base_uri": "https://localhost:8080/",
          "height": 121
        }
      },
      "source": [
        "\n",
        "df2['ps_car_07_cat']=df2['ps_car_07_cat'].fillna(1.0)"
      ],
      "execution_count": 0,
      "outputs": [
        {
          "output_type": "stream",
          "text": [
            "/usr/local/lib/python3.6/dist-packages/ipykernel_launcher.py:2: SettingWithCopyWarning: \n",
            "A value is trying to be set on a copy of a slice from a DataFrame.\n",
            "Try using .loc[row_indexer,col_indexer] = value instead\n",
            "\n",
            "See the caveats in the documentation: http://pandas.pydata.org/pandas-docs/stable/user_guide/indexing.html#returning-a-view-versus-a-copy\n",
            "  \n"
          ],
          "name": "stderr"
        }
      ]
    },
    {
      "cell_type": "code",
      "metadata": {
        "id": "9FWKONdqkdeh",
        "colab_type": "code",
        "outputId": "5b2a6ea0-39a3-492a-fe20-6cd811a3d941",
        "colab": {
          "base_uri": "https://localhost:8080/",
          "height": 121
        }
      },
      "source": [
        "\n",
        "df2['ps_car_09_cat']=df2['ps_car_09_cat'].fillna(2.0)"
      ],
      "execution_count": 0,
      "outputs": [
        {
          "output_type": "stream",
          "text": [
            "/usr/local/lib/python3.6/dist-packages/ipykernel_launcher.py:2: SettingWithCopyWarning: \n",
            "A value is trying to be set on a copy of a slice from a DataFrame.\n",
            "Try using .loc[row_indexer,col_indexer] = value instead\n",
            "\n",
            "See the caveats in the documentation: http://pandas.pydata.org/pandas-docs/stable/user_guide/indexing.html#returning-a-view-versus-a-copy\n",
            "  \n"
          ],
          "name": "stderr"
        }
      ]
    },
    {
      "cell_type": "code",
      "metadata": {
        "id": "XiphmHRdksh0",
        "colab_type": "code",
        "outputId": "767515a4-b0d3-4d0d-cbf4-2fe753d51416",
        "colab": {
          "base_uri": "https://localhost:8080/",
          "height": 121
        }
      },
      "source": [
        "df2['ps_car_11']=df2['ps_car_11'].fillna(3.0)"
      ],
      "execution_count": 0,
      "outputs": [
        {
          "output_type": "stream",
          "text": [
            "/usr/local/lib/python3.6/dist-packages/ipykernel_launcher.py:1: SettingWithCopyWarning: \n",
            "A value is trying to be set on a copy of a slice from a DataFrame.\n",
            "Try using .loc[row_indexer,col_indexer] = value instead\n",
            "\n",
            "See the caveats in the documentation: http://pandas.pydata.org/pandas-docs/stable/user_guide/indexing.html#returning-a-view-versus-a-copy\n",
            "  \"\"\"Entry point for launching an IPython kernel.\n"
          ],
          "name": "stderr"
        }
      ]
    },
    {
      "cell_type": "code",
      "metadata": {
        "id": "RvrXwl8JlWS3",
        "colab_type": "code",
        "outputId": "329b15b2-eee1-4961-c2b6-e808e00cb451",
        "colab": {
          "base_uri": "https://localhost:8080/",
          "height": 121
        }
      },
      "source": [
        "df2['ps_car_12']=df2['ps_car_12'].fillna(df2['ps_car_12'].mean())"
      ],
      "execution_count": 0,
      "outputs": [
        {
          "output_type": "stream",
          "text": [
            "/usr/local/lib/python3.6/dist-packages/ipykernel_launcher.py:1: SettingWithCopyWarning: \n",
            "A value is trying to be set on a copy of a slice from a DataFrame.\n",
            "Try using .loc[row_indexer,col_indexer] = value instead\n",
            "\n",
            "See the caveats in the documentation: http://pandas.pydata.org/pandas-docs/stable/user_guide/indexing.html#returning-a-view-versus-a-copy\n",
            "  \"\"\"Entry point for launching an IPython kernel.\n"
          ],
          "name": "stderr"
        }
      ]
    },
    {
      "cell_type": "code",
      "metadata": {
        "id": "-J2JBDMkliKo",
        "colab_type": "code",
        "outputId": "a4feb4e4-fd52-4f75-9e38-f873693a0719",
        "colab": {
          "base_uri": "https://localhost:8080/",
          "height": 173
        }
      },
      "source": [
        "df2['ps_car_14'].describe()"
      ],
      "execution_count": 0,
      "outputs": [
        {
          "output_type": "execute_result",
          "data": {
            "text/plain": [
              "count    552592.000000\n",
              "mean          0.374691\n",
              "std           0.045610\n",
              "min           0.109545\n",
              "25%           0.350428\n",
              "50%           0.373497\n",
              "75%           0.398121\n",
              "max           0.636396\n",
              "Name: ps_car_14, dtype: float64"
            ]
          },
          "metadata": {
            "tags": []
          },
          "execution_count": 24
        }
      ]
    },
    {
      "cell_type": "code",
      "metadata": {
        "id": "9geceNAilqDw",
        "colab_type": "code",
        "outputId": "95a80d65-7581-4f4d-b52a-e4a5d34dc8e8",
        "colab": {
          "base_uri": "https://localhost:8080/",
          "height": 121
        }
      },
      "source": [
        "df2['ps_car_14_mean'] = df2['ps_car_14']"
      ],
      "execution_count": 0,
      "outputs": [
        {
          "output_type": "stream",
          "text": [
            "/usr/local/lib/python3.6/dist-packages/ipykernel_launcher.py:1: SettingWithCopyWarning: \n",
            "A value is trying to be set on a copy of a slice from a DataFrame.\n",
            "Try using .loc[row_indexer,col_indexer] = value instead\n",
            "\n",
            "See the caveats in the documentation: http://pandas.pydata.org/pandas-docs/stable/user_guide/indexing.html#returning-a-view-versus-a-copy\n",
            "  \"\"\"Entry point for launching an IPython kernel.\n"
          ],
          "name": "stderr"
        }
      ]
    },
    {
      "cell_type": "code",
      "metadata": {
        "id": "puzfGKl9l8m4",
        "colab_type": "code",
        "outputId": "6967d283-2d86-4fa0-bb00-a641b07db3e0",
        "colab": {
          "base_uri": "https://localhost:8080/",
          "height": 121
        }
      },
      "source": [
        "df2['ps_car_14_mean']=df2['ps_car_14_mean'].fillna(df2['ps_car_14_mean'].mean())"
      ],
      "execution_count": 0,
      "outputs": [
        {
          "output_type": "stream",
          "text": [
            "/usr/local/lib/python3.6/dist-packages/ipykernel_launcher.py:1: SettingWithCopyWarning: \n",
            "A value is trying to be set on a copy of a slice from a DataFrame.\n",
            "Try using .loc[row_indexer,col_indexer] = value instead\n",
            "\n",
            "See the caveats in the documentation: http://pandas.pydata.org/pandas-docs/stable/user_guide/indexing.html#returning-a-view-versus-a-copy\n",
            "  \"\"\"Entry point for launching an IPython kernel.\n"
          ],
          "name": "stderr"
        }
      ]
    },
    {
      "cell_type": "code",
      "metadata": {
        "id": "YbTzWmYomEIq",
        "colab_type": "code",
        "outputId": "505ecf45-8b2e-4d41-e9d4-2094def2c469",
        "colab": {
          "base_uri": "https://localhost:8080/",
          "height": 173
        }
      },
      "source": [
        "df2['ps_car_14_mean'].describe()"
      ],
      "execution_count": 0,
      "outputs": [
        {
          "output_type": "execute_result",
          "data": {
            "text/plain": [
              "count    595212.000000\n",
              "mean          0.374691\n",
              "std           0.043947\n",
              "min           0.109545\n",
              "25%           0.353553\n",
              "50%           0.374691\n",
              "75%           0.396485\n",
              "max           0.636396\n",
              "Name: ps_car_14_mean, dtype: float64"
            ]
          },
          "metadata": {
            "tags": []
          },
          "execution_count": 27
        }
      ]
    },
    {
      "cell_type": "code",
      "metadata": {
        "id": "y8baxqD1ms-i",
        "colab_type": "code",
        "outputId": "f7f7c3ef-2712-4014-f513-e96d3a2becf0",
        "colab": {
          "base_uri": "https://localhost:8080/",
          "height": 121
        }
      },
      "source": [
        "df2['ps_car_14']=df2['ps_car_14'].fillna(df2['ps_car_14'].mean())"
      ],
      "execution_count": 0,
      "outputs": [
        {
          "output_type": "stream",
          "text": [
            "/usr/local/lib/python3.6/dist-packages/ipykernel_launcher.py:1: SettingWithCopyWarning: \n",
            "A value is trying to be set on a copy of a slice from a DataFrame.\n",
            "Try using .loc[row_indexer,col_indexer] = value instead\n",
            "\n",
            "See the caveats in the documentation: http://pandas.pydata.org/pandas-docs/stable/user_guide/indexing.html#returning-a-view-versus-a-copy\n",
            "  \"\"\"Entry point for launching an IPython kernel.\n"
          ],
          "name": "stderr"
        }
      ]
    },
    {
      "cell_type": "code",
      "metadata": {
        "id": "9IxDgpphm0T3",
        "colab_type": "code",
        "outputId": "7f997fa4-00d9-47e3-915b-4aca10253678",
        "colab": {
          "base_uri": "https://localhost:8080/",
          "height": 104
        }
      },
      "source": [
        "df2.drop('ps_car_14_mean',axis=1,inplace=True)"
      ],
      "execution_count": 0,
      "outputs": [
        {
          "output_type": "stream",
          "text": [
            "/usr/local/lib/python3.6/dist-packages/pandas/core/frame.py:4117: SettingWithCopyWarning: \n",
            "A value is trying to be set on a copy of a slice from a DataFrame\n",
            "\n",
            "See the caveats in the documentation: http://pandas.pydata.org/pandas-docs/stable/user_guide/indexing.html#returning-a-view-versus-a-copy\n",
            "  errors=errors,\n"
          ],
          "name": "stderr"
        }
      ]
    },
    {
      "cell_type": "code",
      "metadata": {
        "id": "2-tjd_TKm-y9",
        "colab_type": "code",
        "colab": {}
      },
      "source": [
        ""
      ],
      "execution_count": 0,
      "outputs": []
    },
    {
      "cell_type": "code",
      "metadata": {
        "id": "xHoZqocfcSna",
        "colab_type": "code",
        "outputId": "1d0f32bd-5799-4472-98bb-6a2c1a2017e3",
        "colab": {
          "base_uri": "https://localhost:8080/",
          "height": 297
        }
      },
      "source": [
        "sns.countplot(x ='ps_calc_10', data = df2)  #18-25 seems to be outliers"
      ],
      "execution_count": 0,
      "outputs": [
        {
          "output_type": "execute_result",
          "data": {
            "text/plain": [
              "<matplotlib.axes._subplots.AxesSubplot at 0x7f6838309940>"
            ]
          },
          "metadata": {
            "tags": []
          },
          "execution_count": 30
        },
        {
          "output_type": "display_data",
          "data": {
            "image/png": "[encoded data removed]",
            "text/plain": [
              "<Figure size 432x288 with 1 Axes>"
            ]
          },
          "metadata": {
            "tags": []
          }
        }
      ]
    },
    {
      "cell_type": "code",
      "metadata": {
        "id": "lu63VBr6eJ7x",
        "colab_type": "code",
        "outputId": "da0bd2d4-1e95-4a96-ae13-0e1e6131d09b",
        "colab": {
          "base_uri": "https://localhost:8080/",
          "height": 1000
        }
      },
      "source": [
        "#list down all the categorical values \n",
        "import matplotlib.pyplot as plt\n",
        "cat_cols=['ps_ind_02_cat','ps_ind_04_cat','ps_ind_05_cat','ps_ind_06_bin','ps_ind_07_bin','ps_ind_08_bin','ps_ind_09_bin','ps_ind_10_bin','ps_ind_11_bin']\n",
        "for catCol in cat_cols:\n",
        "  plt.figure()\n",
        "  plt.xlabel(catCol,color='red')\n",
        "  sns.countplot(x =catCol, data = df2)"
      ],
      "execution_count": 0,
      "outputs": [
        {
          "output_type": "display_data",
          "data": {
            "image/png": "[encoded data removed]",
            "text/plain": [
              "<Figure size 432x288 with 1 Axes>"
            ]
          },
          "metadata": {
            "tags": []
          }
        },
        {
          "output_type": "display_data",
          "data": {
            "image/png": "[encoded data removed]",
            "text/plain": [
              "<Figure size 432x288 with 1 Axes>"
            ]
          },
          "metadata": {
            "tags": []
          }
        },
        {
          "output_type": "display_data",
          "data": {
            "image/png": "[encoded data removed]",
            "text/plain": [
              "<Figure size 432x288 with 1 Axes>"
            ]
          },
          "metadata": {
            "tags": []
          }
        },
        {
          "output_type": "display_data",
          "data": {
            "image/png": "[encoded data removed]",
            "text/plain": [
              "<Figure size 432x288 with 1 Axes>"
            ]
          },
          "metadata": {
            "tags": []
          }
        },
        {
          "output_type": "display_data",
          "data": {
            "image/png": "[encoded data removed]",
            "text/plain": [
              "<Figure size 432x288 with 1 Axes>"
            ]
          },
          "metadata": {
            "tags": []
          }
        },
        {
          "output_type": "display_data",
          "data": {
            "image/png": "[encoded data removed]",
            "text/plain": [
              "<Figure size 432x288 with 1 Axes>"
            ]
          },
          "metadata": {
            "tags": []
          }
        },
        {
          "output_type": "display_data",
          "data": {
            "image/png": "[encoded data removed]",
            "text/plain": [
              "<Figure size 432x288 with 1 Axes>"
            ]
          },
          "metadata": {
            "tags": []
          }
        },
        {
          "output_type": "display_data",
          "data": {
            "image/png": "[encoded data removed]",
            "text/plain": [
              "<Figure size 432x288 with 1 Axes>"
            ]
          },
          "metadata": {
            "tags": []
          }
        },
        {
          "output_type": "display_data",
          "data": {
            "image/png": "[encoded data removed]",
            "text/plain": [
              "<Figure size 432x288 with 1 Axes>"
            ]
          },
          "metadata": {
            "tags": []
          }
        }
      ]
    },
    {
      "cell_type": "code",
      "metadata": {
        "id": "w-aAEVzUa47i",
        "colab_type": "code",
        "outputId": "b85bad2b-3994-44f9-c882-af5a740db265",
        "colab": {
          "base_uri": "https://localhost:8080/",
          "height": 1000
        }
      },
      "source": [
        "import matplotlib.pyplot as plt\n",
        "cat_cols=['ps_ind_12_bin','ps_ind_13_bin','ps_ind_16_bin','ps_ind_17_bin','ps_ind_18_bin']\n",
        "for catCol in cat_cols:\n",
        "  plt.figure()\n",
        "  sns.countplot(x =catCol, data = df2,hue='target')"
      ],
      "execution_count": 0,
      "outputs": [
        {
          "output_type": "display_data",
          "data": {
            "image/png": "[encoded data removed]",
            "text/plain": [
              "<Figure size 432x288 with 1 Axes>"
            ]
          },
          "metadata": {
            "tags": []
          }
        },
        {
          "output_type": "display_data",
          "data": {
            "image/png": "[encoded data removed]",
            "text/plain": [
              "<Figure size 432x288 with 1 Axes>"
            ]
          },
          "metadata": {
            "tags": []
          }
        },
        {
          "output_type": "display_data",
          "data": {
            "image/png": "[encoded data removed]",
            "text/plain": [
              "<Figure size 432x288 with 1 Axes>"
            ]
          },
          "metadata": {
            "tags": []
          }
        },
        {
          "output_type": "display_data",
          "data": {
            "image/png": "[encoded data removed]",
            "text/plain": [
              "<Figure size 432x288 with 1 Axes>"
            ]
          },
          "metadata": {
            "tags": []
          }
        },
        {
          "output_type": "display_data",
          "data": {
            "image/png": "[encoded data removed]",
            "text/plain": [
              "<Figure size 432x288 with 1 Axes>"
            ]
          },
          "metadata": {
            "tags": []
          }
        }
      ]
    },
    {
      "cell_type": "code",
      "metadata": {
        "id": "ND9l2Gjybf6y",
        "colab_type": "code",
        "outputId": "bfc0e58e-bb6b-44b0-9d5f-77ac5c541206",
        "colab": {
          "base_uri": "https://localhost:8080/",
          "height": 1000
        }
      },
      "source": [
        "\n",
        "cat_cols=['ps_car_01_cat','ps_car_01_cat','ps_car_02_cat','ps_car_04_cat','ps_car_05_cat','ps_car_06_cat','ps_car_07_cat','ps_car_08_cat','ps_car_10_cat']\n",
        "for catCol in cat_cols:\n",
        "  plt.figure()\n",
        "  plt.xlabel(catCol,color='red')\n",
        "  sns.countplot(x =catCol, data = df2,hue='target')"
      ],
      "execution_count": 0,
      "outputs": [
        {
          "output_type": "display_data",
          "data": {
            "image/png": "[encoded data removed]",
            "text/plain": [
              "<Figure size 432x288 with 1 Axes>"
            ]
          },
          "metadata": {
            "tags": []
          }
        },
        {
          "output_type": "display_data",
          "data": {
            "image/png": "[encoded data removed]",
            "text/plain": [
              "<Figure size 432x288 with 1 Axes>"
            ]
          },
          "metadata": {
            "tags": []
          }
        },
        {
          "output_type": "display_data",
          "data": {
            "image/png": "[encoded data removed]",
            "text/plain": [
              "<Figure size 432x288 with 1 Axes>"
            ]
          },
          "metadata": {
            "tags": []
          }
        },
        {
          "output_type": "display_data",
          "data": {
            "image/png": "[encoded data removed]",
            "text/plain": [
              "<Figure size 432x288 with 1 Axes>"
            ]
          },
          "metadata": {
            "tags": []
          }
        },
        {
          "output_type": "display_data",
          "data": {
            "image/png": "[encoded data removed]",
            "text/plain": [
              "<Figure size 432x288 with 1 Axes>"
            ]
          },
          "metadata": {
            "tags": []
          }
        },
        {
          "output_type": "display_data",
          "data": {
            "image/png": "[encoded data removed]",
            "text/plain": [
              "<Figure size 432x288 with 1 Axes>"
            ]
          },
          "metadata": {
            "tags": []
          }
        },
        {
          "output_type": "display_data",
          "data": {
            "image/png": "[encoded data removed]",
            "text/plain": [
              "<Figure size 432x288 with 1 Axes>"
            ]
          },
          "metadata": {
            "tags": []
          }
        },
        {
          "output_type": "display_data",
          "data": {
            "image/png": "[encoded data removed]",
            "text/plain": [
              "<Figure size 432x288 with 1 Axes>"
            ]
          },
          "metadata": {
            "tags": []
          }
        },
        {
          "output_type": "display_data",
          "data": {
            "image/png": "[encoded data removed]",
            "text/plain": [
              "<Figure size 432x288 with 1 Axes>"
            ]
          },
          "metadata": {
            "tags": []
          }
        }
      ]
    },
    {
      "cell_type": "code",
      "metadata": {
        "id": "HQKCLIyqiAmo",
        "colab_type": "code",
        "outputId": "ec93bb4a-1a78-4a83-f0c0-459a3602fea0",
        "colab": {
          "base_uri": "https://localhost:8080/",
          "height": 1000
        }
      },
      "source": [
        "continuous_cols=['ps_ind_01','ps_ind_03','ps_ind_14','ps_ind_15','ps_reg_01','ps_reg_02','ps_reg_03','ps_car_11','ps_car_12']\n",
        "for concol in continuous_cols:\n",
        "  plt.hist(x=df2[concol],bins=100,  color='#0504aa',\n",
        "                            alpha=0.7, rwidth=0.85,label=concol)\n",
        "  plt.xlabel(concol,color='red')\n",
        "  plt.show()"
      ],
      "execution_count": 0,
      "outputs": [
        {
          "output_type": "display_data",
          "data": {
            "image/png": "[encoded data removed]",
            "text/plain": [
              "<Figure size 432x288 with 1 Axes>"
            ]
          },
          "metadata": {
            "tags": []
          }
        },
        {
          "output_type": "display_data",
          "data": {
            "image/png": "[encoded data removed]",
            "text/plain": [
              "<Figure size 432x288 with 1 Axes>"
            ]
          },
          "metadata": {
            "tags": []
          }
        },
        {
          "output_type": "display_data",
          "data": {
            "image/png": "[encoded data removed]",
            "text/plain": [
              "<Figure size 432x288 with 1 Axes>"
            ]
          },
          "metadata": {
            "tags": []
          }
        },
        {
          "output_type": "display_data",
          "data": {
            "image/png": "[encoded data removed]",
            "text/plain": [
              "<Figure size 432x288 with 1 Axes>"
            ]
          },
          "metadata": {
            "tags": []
          }
        },
        {
          "output_type": "display_data",
          "data": {
            "image/png": "[encoded data removed]",
            "text/plain": [
              "<Figure size 432x288 with 1 Axes>"
            ]
          },
          "metadata": {
            "tags": []
          }
        },
        {
          "output_type": "display_data",
          "data": {
            "image/png": "[encoded data removed]",
            "text/plain": [
              "<Figure size 432x288 with 1 Axes>"
            ]
          },
          "metadata": {
            "tags": []
          }
        },
        {
          "output_type": "display_data",
          "data": {
            "image/png": "[encoded data removed]",
            "text/plain": [
              "<Figure size 432x288 with 1 Axes>"
            ]
          },
          "metadata": {
            "tags": []
          }
        },
        {
          "output_type": "display_data",
          "data": {
            "image/png": "[encoded data removed]",
            "text/plain": [
              "<Figure size 432x288 with 1 Axes>"
            ]
          },
          "metadata": {
            "tags": []
          }
        },
        {
          "output_type": "display_data",
          "data": {
            "image/png": "[encoded data removed]",
            "text/plain": [
              "<Figure size 432x288 with 1 Axes>"
            ]
          },
          "metadata": {
            "tags": []
          }
        }
      ]
    },
    {
      "cell_type": "code",
      "metadata": {
        "id": "Sf7t8_bOjAi0",
        "colab_type": "code",
        "outputId": "48012107-8f45-484f-a61a-ba6963b74221",
        "colab": {
          "base_uri": "https://localhost:8080/",
          "height": 1000
        }
      },
      "source": [
        "continuous_cols=['ps_car_13','ps_car_14','ps_calc_01','ps_calc_02','ps_calc_03','ps_calc_04','ps_calc_05','ps_calc_06','ps_calc_07','ps_calc_08','ps_calc_09','ps_calc_10']\n",
        "for concol in continuous_cols:\n",
        "  plt.hist(x=df2[concol],bins=100,  color='#0504aa',\n",
        "                            alpha=0.7, rwidth=0.85)\n",
        "  plt.xlabel(concol,color='red')\n",
        "  plt.show()"
      ],
      "execution_count": 0,
      "outputs": [
        {
          "output_type": "display_data",
          "data": {
            "image/png": "[encoded data removed]",
            "text/plain": [
              "<Figure size 432x288 with 1 Axes>"
            ]
          },
          "metadata": {
            "tags": []
          }
        },
        {
          "output_type": "display_data",
          "data": {
            "image/png": "[encoded data removed]",
            "text/plain": [
              "<Figure size 432x288 with 1 Axes>"
            ]
          },
          "metadata": {
            "tags": []
          }
        },
        {
          "output_type": "display_data",
          "data": {
            "image/png": "[encoded data removed]",
            "text/plain": [
              "<Figure size 432x288 with 1 Axes>"
            ]
          },
          "metadata": {
            "tags": []
          }
        },
        {
          "output_type": "display_data",
          "data": {
            "image/png": "[encoded data removed]",
            "text/plain": [
              "<Figure size 432x288 with 1 Axes>"
            ]
          },
          "metadata": {
            "tags": []
          }
        },
        {
          "output_type": "display_data",
          "data": {
            "image/png": "[encoded data removed]",
            "text/plain": [
              "<Figure size 432x288 with 1 Axes>"
            ]
          },
          "metadata": {
            "tags": []
          }
        },
        {
          "output_type": "display_data",
          "data": {
            "image/png": "[encoded data removed]",
            "text/plain": [
              "<Figure size 432x288 with 1 Axes>"
            ]
          },
          "metadata": {
            "tags": []
          }
        },
        {
          "output_type": "display_data",
          "data": {
            "image/png": "[encoded data removed]",
            "text/plain": [
              "<Figure size 432x288 with 1 Axes>"
            ]
          },
          "metadata": {
            "tags": []
          }
        },
        {
          "output_type": "display_data",
          "data": {
            "image/png": "[encoded data removed]",
            "text/plain": [
              "<Figure size 432x288 with 1 Axes>"
            ]
          },
          "metadata": {
            "tags": []
          }
        },
        {
          "output_type": "display_data",
          "data": {
            "image/png": "[encoded data removed]",
            "text/plain": [
              "<Figure size 432x288 with 1 Axes>"
            ]
          },
          "metadata": {
            "tags": []
          }
        },
        {
          "output_type": "display_data",
          "data": {
            "image/png": "[encoded data removed]",
            "text/plain": [
              "<Figure size 432x288 with 1 Axes>"
            ]
          },
          "metadata": {
            "tags": []
          }
        },
        {
          "output_type": "display_data",
          "data": {
            "image/png": "[encoded data removed]",
            "text/plain": [
              "<Figure size 432x288 with 1 Axes>"
            ]
          },
          "metadata": {
            "tags": []
          }
        },
        {
          "output_type": "display_data",
          "data": {
            "image/png": "[encoded data removed]",
            "text/plain": [
              "<Figure size 432x288 with 1 Axes>"
            ]
          },
          "metadata": {
            "tags": []
          }
        }
      ]
    },
    {
      "cell_type": "code",
      "metadata": {
        "id": "PdEVE7s3mkP3",
        "colab_type": "code",
        "outputId": "1c510d3d-97fa-4e67-8fd1-4047eb462616",
        "colab": {
          "base_uri": "https://localhost:8080/",
          "height": 1000
        }
      },
      "source": [
        "continuous_cols=['ps_calc_11','ps_calc_12','ps_calc_13','ps_calc_14','ps_car_11_cat']\n",
        "for concol in continuous_cols:\n",
        "  plt.hist(x=df2[concol],bins=100,  color='#0504aa',\n",
        "                            alpha=0.7, rwidth=0.85)\n",
        "  plt.xlabel(concol)\n",
        "  plt.show()"
      ],
      "execution_count": 0,
      "outputs": [
        {
          "output_type": "display_data",
          "data": {
            "image/png": "[encoded data removed]",
            "text/plain": [
              "<Figure size 432x288 with 1 Axes>"
            ]
          },
          "metadata": {
            "tags": []
          }
        },
        {
          "output_type": "display_data",
          "data": {
            "image/png": "[encoded data removed]",
            "text/plain": [
              "<Figure size 432x288 with 1 Axes>"
            ]
          },
          "metadata": {
            "tags": []
          }
        },
        {
          "output_type": "display_data",
          "data": {
            "image/png": "[encoded data removed]",
            "text/plain": [
              "<Figure size 432x288 with 1 Axes>"
            ]
          },
          "metadata": {
            "tags": []
          }
        },
        {
          "output_type": "display_data",
          "data": {
            "image/png": "[encoded data removed]",
            "text/plain": [
              "<Figure size 432x288 with 1 Axes>"
            ]
          },
          "metadata": {
            "tags": []
          }
        },
        {
          "output_type": "display_data",
          "data": {
            "image/png": "[encoded data removed]",
            "text/plain": [
              "<Figure size 432x288 with 1 Axes>"
            ]
          },
          "metadata": {
            "tags": []
          }
        }
      ]
    },
    {
      "cell_type": "code",
      "metadata": {
        "id": "h8--h2G7qOSP",
        "colab_type": "code",
        "outputId": "6a72dc3a-8660-4862-9bd7-ede9c40864a0",
        "colab": {
          "base_uri": "https://localhost:8080/",
          "height": 121
        }
      },
      "source": [
        "df2['ps_ind_14'].value_counts()"
      ],
      "execution_count": 0,
      "outputs": [
        {
          "output_type": "execute_result",
          "data": {
            "text/plain": [
              "0    588832\n",
              "1      5495\n",
              "2       744\n",
              "3       136\n",
              "4         5\n",
              "Name: ps_ind_14, dtype: int64"
            ]
          },
          "metadata": {
            "tags": []
          },
          "execution_count": 37
        }
      ]
    },
    {
      "cell_type": "code",
      "metadata": {
        "id": "FRpMUfQ3uAli",
        "colab_type": "code",
        "outputId": "895d5664-05bf-4803-e61b-e2edee3a3883",
        "colab": {
          "base_uri": "https://localhost:8080/",
          "height": 35
        }
      },
      "source": [
        "(df2['ps_ind_14'].value_counts()[0]/df2['ps_ind_14'].count() ) * 100"
      ],
      "execution_count": 0,
      "outputs": [
        {
          "output_type": "execute_result",
          "data": {
            "text/plain": [
              "98.9281130084743"
            ]
          },
          "metadata": {
            "tags": []
          },
          "execution_count": 38
        }
      ]
    },
    {
      "cell_type": "code",
      "metadata": {
        "id": "9t93Wospud_i",
        "colab_type": "code",
        "outputId": "f9f1349b-e90b-4ed7-ef1f-5024252a0649",
        "colab": {
          "base_uri": "https://localhost:8080/",
          "height": 35
        }
      },
      "source": [
        "(df2['ps_ind_14'].value_counts()[1]/df2['ps_ind_14'].count() ) * 100"
      ],
      "execution_count": 0,
      "outputs": [
        {
          "output_type": "execute_result",
          "data": {
            "text/plain": [
              "0.9232004731087411"
            ]
          },
          "metadata": {
            "tags": []
          },
          "execution_count": 39
        }
      ]
    },
    {
      "cell_type": "code",
      "metadata": {
        "id": "6FGvDgjNzW-F",
        "colab_type": "code",
        "colab": {}
      },
      "source": [
        ""
      ],
      "execution_count": 0,
      "outputs": []
    },
    {
      "cell_type": "markdown",
      "metadata": {
        "id": "axQILr0aqDW-",
        "colab_type": "text"
      },
      "source": [
        "CHECK CORRELATION FOR CONTINUOUS VARIABLES\n"
      ]
    },
    {
      "cell_type": "code",
      "metadata": {
        "id": "m9MV97gdweDk",
        "colab_type": "code",
        "colab": {}
      },
      "source": [
        "df_corr=df2[['ps_calc_11','ps_calc_12','ps_calc_13','ps_calc_14','ps_car_13','ps_car_14','ps_calc_01','ps_calc_02','ps_calc_03','ps_calc_04','ps_calc_05','ps_calc_06','ps_calc_07','ps_calc_08','ps_calc_09','ps_calc_10','ps_ind_01','ps_ind_03','ps_ind_14','ps_ind_15','ps_reg_01','ps_reg_02','ps_reg_03','ps_car_11','ps_car_12']]"
      ],
      "execution_count": 0,
      "outputs": []
    },
    {
      "cell_type": "code",
      "metadata": {
        "id": "TkFlXFVFRTbo",
        "colab_type": "code",
        "outputId": "6359fdcf-8de9-45eb-a9d0-739ea7fb7d53",
        "colab": {
          "base_uri": "https://localhost:8080/",
          "height": 121
        }
      },
      "source": [
        "df_corr.columns"
      ],
      "execution_count": 0,
      "outputs": [
        {
          "output_type": "execute_result",
          "data": {
            "text/plain": [
              "Index(['ps_calc_11', 'ps_calc_12', 'ps_calc_13', 'ps_calc_14', 'ps_car_13',\n",
              "       'ps_car_14', 'ps_calc_01', 'ps_calc_02', 'ps_calc_03', 'ps_calc_04',\n",
              "       'ps_calc_05', 'ps_calc_06', 'ps_calc_07', 'ps_calc_08', 'ps_calc_09',\n",
              "       'ps_calc_10', 'ps_ind_01', 'ps_ind_03', 'ps_ind_14', 'ps_ind_15',\n",
              "       'ps_reg_01', 'ps_reg_02', 'ps_reg_03', 'ps_car_11', 'ps_car_12'],\n",
              "      dtype='object')"
            ]
          },
          "metadata": {
            "tags": []
          },
          "execution_count": 41
        }
      ]
    },
    {
      "cell_type": "code",
      "metadata": {
        "id": "Hk0DUAFBYpUC",
        "colab_type": "code",
        "colab": {}
      },
      "source": [
        "from scipy.stats import spearmanr\n",
        "from scipy.stats import pearsonr"
      ],
      "execution_count": 0,
      "outputs": []
    },
    {
      "cell_type": "code",
      "metadata": {
        "id": "vmT0xM5vYwzA",
        "colab_type": "code",
        "outputId": "e43b21b1-dbc5-4850-c636-298172d65709",
        "colab": {
          "base_uri": "https://localhost:8080/",
          "height": 35
        }
      },
      "source": [
        "corr,_=spearmanr(df_corr['ps_calc_11'],df_corr['ps_calc_13'])\n",
        "corr"
      ],
      "execution_count": 0,
      "outputs": [
        {
          "output_type": "execute_result",
          "data": {
            "text/plain": [
              "0.00274973120263027"
            ]
          },
          "metadata": {
            "tags": []
          },
          "execution_count": 43
        }
      ]
    },
    {
      "cell_type": "code",
      "metadata": {
        "id": "teSSfywryV8R",
        "colab_type": "code",
        "outputId": "4b5eabbb-8c8f-41cb-922c-d1f29c169821",
        "colab": {
          "base_uri": "https://localhost:8080/",
          "height": 35
        }
      },
      "source": [
        "df_corr2=df_corr.copy()\n",
        "type(df_corr2)"
      ],
      "execution_count": 0,
      "outputs": [
        {
          "output_type": "execute_result",
          "data": {
            "text/plain": [
              "pandas.core.frame.DataFrame"
            ]
          },
          "metadata": {
            "tags": []
          },
          "execution_count": 44
        }
      ]
    },
    {
      "cell_type": "code",
      "metadata": {
        "id": "ZXwWAZJi6dyJ",
        "colab_type": "code",
        "outputId": "5b31a722-7eb5-4714-9b0c-39b8fc28af31",
        "colab": {
          "base_uri": "https://localhost:8080/",
          "height": 35
        }
      },
      "source": [
        "len(df_corr.columns),len(df_corr2.columns)"
      ],
      "execution_count": 0,
      "outputs": [
        {
          "output_type": "execute_result",
          "data": {
            "text/plain": [
              "(25, 25)"
            ]
          },
          "metadata": {
            "tags": []
          },
          "execution_count": 45
        }
      ]
    },
    {
      "cell_type": "code",
      "metadata": {
        "id": "eSVo9VtXyv3n",
        "colab_type": "code",
        "outputId": "c1214c61-cae7-4a71-bbfd-5769795fe734",
        "colab": {
          "base_uri": "https://localhost:8080/",
          "height": 156
        }
      },
      "source": [
        "for col in df_corr:\n",
        "  #print(col)\n",
        "  df_corr2.drop([col],axis=1,inplace=True)\n",
        "  for col_j in df_corr2:\n",
        "    corr,_=spearmanr(df_corr[col],df_corr2[col_j])\n",
        "    if(corr > 0.5):\n",
        "      print(col,',',col_j,',',corr)\n",
        "  df_corr2[col] = df_corr[col]\n",
        "    \n",
        "\n"
      ],
      "execution_count": 0,
      "outputs": [
        {
          "output_type": "stream",
          "text": [
            "ps_car_13 , ps_car_12 , 0.6632750994325141\n",
            "ps_car_14 , ps_car_12 , 0.5379956793198201\n",
            "ps_reg_01 , ps_reg_02 , 0.5372687943775057\n",
            "ps_reg_02 , ps_reg_03 , 0.5559923067277589\n",
            "ps_reg_02 , ps_reg_01 , 0.5372687943775059\n",
            "ps_reg_03 , ps_reg_02 , 0.5559923067277589\n",
            "ps_car_12 , ps_car_13 , 0.6632750994325141\n",
            "ps_car_12 , ps_car_14 , 0.5379956793198201\n"
          ],
          "name": "stdout"
        }
      ]
    },
    {
      "cell_type": "code",
      "metadata": {
        "id": "8EOMl2bf3Pws",
        "colab_type": "code",
        "outputId": "8ed1e9d1-5c49-4a9b-bc55-9ec3806ef7ad",
        "colab": {
          "base_uri": "https://localhost:8080/",
          "height": 121
        }
      },
      "source": [
        "for col in df_corr:\n",
        "  #print(col)\n",
        "  df_corr2.drop([col],axis=1,inplace=True)\n",
        "  for col_j in df_corr2:\n",
        "    corr,_=pearsonr(df_corr[col],df_corr2[col_j])\n",
        "    if(corr > 0.5):\n",
        "      print(col,',',col_j,',',corr)\n",
        "  df_corr2[col] = df_corr[col]\n",
        "    \n",
        "\n"
      ],
      "execution_count": 0,
      "outputs": [
        {
          "output_type": "stream",
          "text": [
            "ps_car_13 , ps_car_12 , 0.6720138934155828\n",
            "ps_car_14 , ps_car_12 , 0.5774724614794751\n",
            "ps_reg_02 , ps_reg_03 , 0.7031213133139553\n",
            "ps_reg_03 , ps_reg_02 , 0.7031213133139553\n",
            "ps_car_12 , ps_car_13 , 0.6720138934155828\n",
            "ps_car_12 , ps_car_14 , 0.5774724614794751\n"
          ],
          "name": "stdout"
        }
      ]
    },
    {
      "cell_type": "code",
      "metadata": {
        "id": "kq0OOR66oYxQ",
        "colab_type": "code",
        "colab": {}
      },
      "source": [
        "df_corr=df[['ps_ind_02_cat','ps_ind_04_cat','ps_ind_05_cat','ps_car_01_cat','ps_car_01_cat','ps_car_02_cat','ps_car_04_cat','ps_car_05_cat','ps_car_06_cat','ps_car_07_cat','ps_car_08_cat','ps_car_10_cat']]"
      ],
      "execution_count": 0,
      "outputs": []
    },
    {
      "cell_type": "code",
      "metadata": {
        "id": "U0OgArIdpxty",
        "colab_type": "code",
        "colab": {}
      },
      "source": [
        "df_corr2=df_corr.copy()"
      ],
      "execution_count": 0,
      "outputs": []
    },
    {
      "cell_type": "code",
      "metadata": {
        "id": "WbtU6MMIp3gO",
        "colab_type": "code",
        "outputId": "b139cb86-c572-4052-e875-03eb4c4a2ed8",
        "colab": {
          "base_uri": "https://localhost:8080/",
          "height": 357
        }
      },
      "source": [
        "for col in df_corr:\n",
        "  #print(col)\n",
        "  df_corr2.drop([col],axis=1,inplace=True)\n",
        "  for col_j in df_corr2:\n",
        "    corr,_=spearmanr(df_corr[col],df_corr2[col_j])\n",
        "    if(corr > 0.5):\n",
        "      print(col,',',col_j,',',corr)\n",
        "  df_corr2[col] = df_corr[col]"
      ],
      "execution_count": 0,
      "outputs": [
        {
          "output_type": "error",
          "ename": "IndexError",
          "evalue": "ignored",
          "traceback": [
            "\u001b[0;31m---------------------------------------------------------------------------\u001b[0m",
            "\u001b[0;31mIndexError\u001b[0m                                Traceback (most recent call last)",
            "\u001b[0;32m<ipython-input-51-18e4d92f83ba>\u001b[0m in \u001b[0;36m<module>\u001b[0;34m()\u001b[0m\n\u001b[1;32m      3\u001b[0m   \u001b[0mdf_corr2\u001b[0m\u001b[0;34m.\u001b[0m\u001b[0mdrop\u001b[0m\u001b[0;34m(\u001b[0m\u001b[0;34m[\u001b[0m\u001b[0mcol\u001b[0m\u001b[0;34m]\u001b[0m\u001b[0;34m,\u001b[0m\u001b[0maxis\u001b[0m\u001b[0;34m=\u001b[0m\u001b[0;36m1\u001b[0m\u001b[0;34m,\u001b[0m\u001b[0minplace\u001b[0m\u001b[0;34m=\u001b[0m\u001b[0;32mTrue\u001b[0m\u001b[0;34m)\u001b[0m\u001b[0;34m\u001b[0m\u001b[0;34m\u001b[0m\u001b[0m\n\u001b[1;32m      4\u001b[0m   \u001b[0;32mfor\u001b[0m \u001b[0mcol_j\u001b[0m \u001b[0;32min\u001b[0m \u001b[0mdf_corr2\u001b[0m\u001b[0;34m:\u001b[0m\u001b[0;34m\u001b[0m\u001b[0;34m\u001b[0m\u001b[0m\n\u001b[0;32m----> 5\u001b[0;31m     \u001b[0mcorr\u001b[0m\u001b[0;34m,\u001b[0m\u001b[0m_\u001b[0m\u001b[0;34m=\u001b[0m\u001b[0mspearmanr\u001b[0m\u001b[0;34m(\u001b[0m\u001b[0mdf_corr\u001b[0m\u001b[0;34m[\u001b[0m\u001b[0mcol\u001b[0m\u001b[0;34m]\u001b[0m\u001b[0;34m,\u001b[0m\u001b[0mdf_corr2\u001b[0m\u001b[0;34m[\u001b[0m\u001b[0mcol_j\u001b[0m\u001b[0;34m]\u001b[0m\u001b[0;34m)\u001b[0m\u001b[0;34m\u001b[0m\u001b[0;34m\u001b[0m\u001b[0m\n\u001b[0m\u001b[1;32m      6\u001b[0m     \u001b[0;32mif\u001b[0m\u001b[0;34m(\u001b[0m\u001b[0mcorr\u001b[0m \u001b[0;34m>\u001b[0m \u001b[0;36m0.5\u001b[0m\u001b[0;34m)\u001b[0m\u001b[0;34m:\u001b[0m\u001b[0;34m\u001b[0m\u001b[0;34m\u001b[0m\u001b[0m\n\u001b[1;32m      7\u001b[0m       \u001b[0mprint\u001b[0m\u001b[0;34m(\u001b[0m\u001b[0mcol\u001b[0m\u001b[0;34m,\u001b[0m\u001b[0;34m','\u001b[0m\u001b[0;34m,\u001b[0m\u001b[0mcol_j\u001b[0m\u001b[0;34m,\u001b[0m\u001b[0;34m','\u001b[0m\u001b[0;34m,\u001b[0m\u001b[0mcorr\u001b[0m\u001b[0;34m)\u001b[0m\u001b[0;34m\u001b[0m\u001b[0;34m\u001b[0m\u001b[0m\n",
            "\u001b[0;32m/usr/local/lib/python3.6/dist-packages/scipy/stats/stats.py\u001b[0m in \u001b[0;36mspearmanr\u001b[0;34m(a, b, axis, nan_policy)\u001b[0m\n\u001b[1;32m   3873\u001b[0m         \u001b[0;32mreturn\u001b[0m \u001b[0mSpearmanrResult\u001b[0m\u001b[0;34m(\u001b[0m\u001b[0mrs\u001b[0m\u001b[0;34m[\u001b[0m\u001b[0;36m1\u001b[0m\u001b[0;34m,\u001b[0m \u001b[0;36m0\u001b[0m\u001b[0;34m]\u001b[0m\u001b[0;34m,\u001b[0m \u001b[0mprob\u001b[0m\u001b[0;34m[\u001b[0m\u001b[0;36m1\u001b[0m\u001b[0;34m,\u001b[0m \u001b[0;36m0\u001b[0m\u001b[0;34m]\u001b[0m\u001b[0;34m)\u001b[0m\u001b[0;34m\u001b[0m\u001b[0;34m\u001b[0m\u001b[0m\n\u001b[1;32m   3874\u001b[0m     \u001b[0;32melse\u001b[0m\u001b[0;34m:\u001b[0m\u001b[0;34m\u001b[0m\u001b[0;34m\u001b[0m\u001b[0m\n\u001b[0;32m-> 3875\u001b[0;31m         \u001b[0mrs\u001b[0m\u001b[0;34m[\u001b[0m\u001b[0mvariable_has_nan\u001b[0m\u001b[0;34m,\u001b[0m \u001b[0;34m:\u001b[0m\u001b[0;34m]\u001b[0m \u001b[0;34m=\u001b[0m \u001b[0mnp\u001b[0m\u001b[0;34m.\u001b[0m\u001b[0mnan\u001b[0m\u001b[0;34m\u001b[0m\u001b[0;34m\u001b[0m\u001b[0m\n\u001b[0m\u001b[1;32m   3876\u001b[0m         \u001b[0mrs\u001b[0m\u001b[0;34m[\u001b[0m\u001b[0;34m:\u001b[0m\u001b[0;34m,\u001b[0m \u001b[0mvariable_has_nan\u001b[0m\u001b[0;34m]\u001b[0m \u001b[0;34m=\u001b[0m \u001b[0mnp\u001b[0m\u001b[0;34m.\u001b[0m\u001b[0mnan\u001b[0m\u001b[0;34m\u001b[0m\u001b[0;34m\u001b[0m\u001b[0m\n\u001b[1;32m   3877\u001b[0m         \u001b[0;32mreturn\u001b[0m \u001b[0mSpearmanrResult\u001b[0m\u001b[0;34m(\u001b[0m\u001b[0mrs\u001b[0m\u001b[0;34m,\u001b[0m \u001b[0mprob\u001b[0m\u001b[0;34m)\u001b[0m\u001b[0;34m\u001b[0m\u001b[0;34m\u001b[0m\u001b[0m\n",
            "\u001b[0;31mIndexError\u001b[0m: index 216 is out of bounds for axis 0 with size 3"
          ]
        }
      ]
    },
    {
      "cell_type": "code",
      "metadata": {
        "id": "thJKaNqmysL5",
        "colab_type": "code",
        "colab": {}
      },
      "source": [
        "from sklearn.preprocessing import StandardScaler"
      ],
      "execution_count": 0,
      "outputs": []
    },
    {
      "cell_type": "code",
      "metadata": {
        "id": "d6GUV20D0RKp",
        "colab_type": "code",
        "colab": {}
      },
      "source": [
        "scaler=StandardScaler()\n",
        "scaled_Data=scaler.fit_transform(df)"
      ],
      "execution_count": 0,
      "outputs": []
    },
    {
      "cell_type": "code",
      "metadata": {
        "id": "Zlk4-dIT262v",
        "colab_type": "code",
        "colab": {}
      },
      "source": [
        "scaled_Data.shape"
      ],
      "execution_count": 0,
      "outputs": []
    },
    {
      "cell_type": "markdown",
      "metadata": {
        "id": "xM95pjlS30T_",
        "colab_type": "text"
      },
      "source": [
        "Drop all the columns with missing data, low variance , high correlation and Target"
      ]
    },
    {
      "cell_type": "markdown",
      "metadata": {
        "id": "C1Pc6A6RA7M6",
        "colab_type": "text"
      },
      "source": [
        "Drop ID, ps_car_13 ,ps_car_14 , ps_reg_03 , ps_ind_10_bin , ps_ind_11_bin , ps_ind_13_bin ,ps_ind_14 , ps_car_03_cat"
      ]
    },
    {
      "cell_type": "code",
      "metadata": {
        "id": "Ybhja5Jb4A9A",
        "colab_type": "code",
        "colab": {}
      },
      "source": [
        "drop_cols=['id', 'ps_car_13' ,'ps_car_14' , 'ps_reg_03' , 'ps_ind_10_bin' , 'ps_ind_11_bin' , 'ps_ind_13_bin' ,'ps_ind_14' , 'ps_car_03_cat','target']\n",
        "\n"
      ],
      "execution_count": 0,
      "outputs": []
    },
    {
      "cell_type": "markdown",
      "metadata": {
        "id": "qZzrLemNDafQ",
        "colab_type": "text"
      },
      "source": [
        "Columns that need to be scaled :\n",
        "ps_ind_01 , ps_ind_02_cat ,ps_ind_03,ps_ind_05,ps_ind_15,ps_car_01_cat,ps_car_02_cat,ps_car_04_cat,ps_car_06_cat,ps_car_09_cat,ps_car_10_cat, ps_car_11_cat,ps_car_11, ps_car_15, ps_calc_04, ps_calc_05,ps_calc_06,ps_calc_07,ps_calc_08,ps_calc_09,ps_calc_10,ps_calc_11,ps_calc_12,ps_calc_13,ps_calc_14"
      ]
    },
    {
      "cell_type": "code",
      "metadata": {
        "id": "l58raa3gQeOz",
        "colab_type": "code",
        "colab": {}
      },
      "source": [
        "rescale_cols=['ps_ind_01' , 'ps_ind_02_cat' ,'ps_ind_03','ps_ind_15','ps_car_01_cat','ps_car_02_cat','ps_car_04_cat','ps_car_06_cat','ps_car_09_cat','ps_car_10_cat', 'ps_car_11_cat','ps_car_11', 'ps_car_15', 'ps_calc_04', 'ps_calc_05','ps_calc_06','ps_calc_07','ps_calc_08','ps_calc_09','ps_calc_10','ps_calc_11','ps_calc_12','ps_calc_13','ps_calc_14']\n",
        "scaled_Data=scaler.fit_transform(df[rescale_cols])"
      ],
      "execution_count": 0,
      "outputs": []
    },
    {
      "cell_type": "code",
      "metadata": {
        "id": "oNW8jUS2Qq49",
        "colab_type": "code",
        "colab": {}
      },
      "source": [
        "scaled_Data.shape\n",
        "df_arr=pd.DataFrame(scaled_Data,columns=rescale_cols)"
      ],
      "execution_count": 0,
      "outputs": []
    },
    {
      "cell_type": "code",
      "metadata": {
        "id": "tm051OsNRgrx",
        "colab_type": "code",
        "colab": {}
      },
      "source": [
        "df_arr.head()"
      ],
      "execution_count": 0,
      "outputs": []
    },
    {
      "cell_type": "code",
      "metadata": {
        "id": "M1Sl30gHwElK",
        "colab_type": "code",
        "colab": {}
      },
      "source": [
        "df.drop(rescale_cols,axis=1,inplace=True)"
      ],
      "execution_count": 0,
      "outputs": []
    },
    {
      "cell_type": "code",
      "metadata": {
        "id": "E12861yxWjr0",
        "colab_type": "code",
        "colab": {}
      },
      "source": [
        "df.shape"
      ],
      "execution_count": 0,
      "outputs": []
    },
    {
      "cell_type": "code",
      "metadata": {
        "id": "yDCcW87vecjG",
        "colab_type": "code",
        "colab": {}
      },
      "source": [
        "sns.set(style=\"whitegrid\")\n",
        "sns.boxplot(x='ps_car_12',y='target',data=df)\n",
        "plt.show()"
      ],
      "execution_count": 0,
      "outputs": []
    },
    {
      "cell_type": "code",
      "metadata": {
        "id": "XZl8kYVt7upk",
        "colab_type": "code",
        "colab": {}
      },
      "source": [
        "sns.boxplot(x='target',y='ps_car_12',data=df)"
      ],
      "execution_count": 0,
      "outputs": []
    },
    {
      "cell_type": "code",
      "metadata": {
        "id": "SHIH5eXm9Lq9",
        "colab_type": "code",
        "colab": {}
      },
      "source": [
        "sns.catplot(x='target',y='ps_car_12',data=df,kind='boxen')"
      ],
      "execution_count": 0,
      "outputs": []
    },
    {
      "cell_type": "code",
      "metadata": {
        "id": "9rItpS9E6AJP",
        "colab_type": "code",
        "colab": {}
      },
      "source": [
        "sns.catplot(x='target',y='ps_car_05_cat',data=df,kind='boxen')"
      ],
      "execution_count": 0,
      "outputs": []
    },
    {
      "cell_type": "code",
      "metadata": {
        "id": "Z8nxa69h6XAp",
        "colab_type": "code",
        "colab": {}
      },
      "source": [
        "#sns.countplot(x='ps_car_05_cat',y='target')\n",
        "sns.countplot(x ='ps_car_05_cat', data = df,hue='target')"
      ],
      "execution_count": 0,
      "outputs": []
    },
    {
      "cell_type": "code",
      "metadata": {
        "id": "yr2IqOMaXmjq",
        "colab_type": "code",
        "colab": {}
      },
      "source": [
        "df.columns"
      ],
      "execution_count": 0,
      "outputs": []
    },
    {
      "cell_type": "code",
      "metadata": {
        "id": "o8lAcrqG4zvk",
        "colab_type": "code",
        "colab": {}
      },
      "source": [
        "sns.catplot(x='target',y='ps_reg_02',data=df,kind='box')\n",
        "#sns.catplot(x='ps_reg_02',y='target',data=df,kind='boxen')\n"
      ],
      "execution_count": 0,
      "outputs": []
    },
    {
      "cell_type": "code",
      "metadata": {
        "id": "QTNz0gO55KQE",
        "colab_type": "code",
        "colab": {}
      },
      "source": [
        ""
      ],
      "execution_count": 0,
      "outputs": []
    },
    {
      "cell_type": "code",
      "metadata": {
        "id": "VA8bQAjXX7HE",
        "colab_type": "code",
        "colab": {}
      },
      "source": [
        "# THIS IS FOR CONTINUOUS COLS\n",
        "boxen_cols=['ps_reg_02', 'ps_reg_03', 'ps_car_05_cat', 'ps_car_07_cat']\n",
        "for everycol in boxen_cols:\n",
        "  sns.catplot(x='target',y=everycol,data=df,kind='boxen')"
      ],
      "execution_count": 0,
      "outputs": []
    },
    {
      "cell_type": "code",
      "metadata": {
        "id": "SSaiUJXzQnCy",
        "colab_type": "code",
        "colab": {}
      },
      "source": [
        "sns.catplot(x='target',y='ps_car_12',data=df)"
      ],
      "execution_count": 0,
      "outputs": []
    },
    {
      "cell_type": "code",
      "metadata": {
        "id": "XDyAS7TNPr_A",
        "colab_type": "code",
        "colab": {}
      },
      "source": [
        "sns.jointplot(x=\"target\", y=\"ps_reg_03\", data=df);"
      ],
      "execution_count": 0,
      "outputs": []
    },
    {
      "cell_type": "code",
      "metadata": {
        "id": "Y-KE2MQi1d0-",
        "colab_type": "code",
        "colab": {}
      },
      "source": [
        "cat_cols_encode=df[['ps_ind_02_cat','ps_ind_04_cat','ps_ind_05_cat','ps_car_01_cat','ps_car_04_cat','ps_car_05_cat','ps_car_06_cat','ps_car_10_cat']]\n",
        "\n"
      ],
      "execution_count": 0,
      "outputs": []
    },
    {
      "cell_type": "code",
      "metadata": {
        "id": "tSTdwq8T39uv",
        "colab_type": "code",
        "colab": {}
      },
      "source": [
        "df.columns"
      ],
      "execution_count": 0,
      "outputs": []
    },
    {
      "cell_type": "code",
      "metadata": {
        "id": "_r_ykfad1l4u",
        "colab_type": "code",
        "colab": {}
      },
      "source": [
        "from sklearn.preprocessing import OneHotEncoder"
      ],
      "execution_count": 0,
      "outputs": []
    }
  ]
}